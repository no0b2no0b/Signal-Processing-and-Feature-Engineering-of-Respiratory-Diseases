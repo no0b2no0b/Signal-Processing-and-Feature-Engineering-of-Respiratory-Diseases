{
  "nbformat": 4,
  "nbformat_minor": 0,
  "metadata": {
    "colab": {
      "provenance": []
    },
    "kernelspec": {
      "name": "python3",
      "display_name": "Python 3"
    },
    "language_info": {
      "name": "python"
    }
  },
  "cells": [
    {
      "cell_type": "code",
      "source": [
        "pip install librosa"
      ],
      "metadata": {
        "colab": {
          "base_uri": "https://localhost:8080/"
        },
        "id": "gtcprfJ1PDoF",
        "outputId": "d9ce1454-3b74-4720-dd92-c8febede2a6e"
      },
      "execution_count": 95,
      "outputs": [
        {
          "output_type": "stream",
          "name": "stdout",
          "text": [
            "Requirement already satisfied: librosa in /usr/local/lib/python3.10/dist-packages (0.10.1)\n",
            "Requirement already satisfied: audioread>=2.1.9 in /usr/local/lib/python3.10/dist-packages (from librosa) (3.0.0)\n",
            "Requirement already satisfied: numpy!=1.22.0,!=1.22.1,!=1.22.2,>=1.20.3 in /usr/local/lib/python3.10/dist-packages (from librosa) (1.23.5)\n",
            "Requirement already satisfied: scipy>=1.2.0 in /usr/local/lib/python3.10/dist-packages (from librosa) (1.11.2)\n",
            "Requirement already satisfied: scikit-learn>=0.20.0 in /usr/local/lib/python3.10/dist-packages (from librosa) (1.2.2)\n",
            "Requirement already satisfied: joblib>=0.14 in /usr/local/lib/python3.10/dist-packages (from librosa) (1.3.2)\n",
            "Requirement already satisfied: decorator>=4.3.0 in /usr/local/lib/python3.10/dist-packages (from librosa) (4.4.2)\n",
            "Requirement already satisfied: numba>=0.51.0 in /usr/local/lib/python3.10/dist-packages (from librosa) (0.56.4)\n",
            "Requirement already satisfied: soundfile>=0.12.1 in /usr/local/lib/python3.10/dist-packages (from librosa) (0.12.1)\n",
            "Requirement already satisfied: pooch>=1.0 in /usr/local/lib/python3.10/dist-packages (from librosa) (1.7.0)\n",
            "Requirement already satisfied: soxr>=0.3.2 in /usr/local/lib/python3.10/dist-packages (from librosa) (0.3.6)\n",
            "Requirement already satisfied: typing-extensions>=4.1.1 in /usr/local/lib/python3.10/dist-packages (from librosa) (4.5.0)\n",
            "Requirement already satisfied: lazy-loader>=0.1 in /usr/local/lib/python3.10/dist-packages (from librosa) (0.3)\n",
            "Requirement already satisfied: msgpack>=1.0 in /usr/local/lib/python3.10/dist-packages (from librosa) (1.0.5)\n",
            "Requirement already satisfied: llvmlite<0.40,>=0.39.0dev0 in /usr/local/lib/python3.10/dist-packages (from numba>=0.51.0->librosa) (0.39.1)\n",
            "Requirement already satisfied: setuptools in /usr/local/lib/python3.10/dist-packages (from numba>=0.51.0->librosa) (67.7.2)\n",
            "Requirement already satisfied: platformdirs>=2.5.0 in /usr/local/lib/python3.10/dist-packages (from pooch>=1.0->librosa) (3.10.0)\n",
            "Requirement already satisfied: packaging>=20.0 in /usr/local/lib/python3.10/dist-packages (from pooch>=1.0->librosa) (23.1)\n",
            "Requirement already satisfied: requests>=2.19.0 in /usr/local/lib/python3.10/dist-packages (from pooch>=1.0->librosa) (2.31.0)\n",
            "Requirement already satisfied: threadpoolctl>=2.0.0 in /usr/local/lib/python3.10/dist-packages (from scikit-learn>=0.20.0->librosa) (3.2.0)\n",
            "Requirement already satisfied: cffi>=1.0 in /usr/local/lib/python3.10/dist-packages (from soundfile>=0.12.1->librosa) (1.15.1)\n",
            "Requirement already satisfied: pycparser in /usr/local/lib/python3.10/dist-packages (from cffi>=1.0->soundfile>=0.12.1->librosa) (2.21)\n",
            "Requirement already satisfied: charset-normalizer<4,>=2 in /usr/local/lib/python3.10/dist-packages (from requests>=2.19.0->pooch>=1.0->librosa) (3.2.0)\n",
            "Requirement already satisfied: idna<4,>=2.5 in /usr/local/lib/python3.10/dist-packages (from requests>=2.19.0->pooch>=1.0->librosa) (3.4)\n",
            "Requirement already satisfied: urllib3<3,>=1.21.1 in /usr/local/lib/python3.10/dist-packages (from requests>=2.19.0->pooch>=1.0->librosa) (2.0.4)\n",
            "Requirement already satisfied: certifi>=2017.4.17 in /usr/local/lib/python3.10/dist-packages (from requests>=2.19.0->pooch>=1.0->librosa) (2023.7.22)\n"
          ]
        }
      ]
    },
    {
      "cell_type": "code",
      "source": [
        "pip install resampy"
      ],
      "metadata": {
        "colab": {
          "base_uri": "https://localhost:8080/"
        },
        "id": "bvpCuCOyPFMw",
        "outputId": "6da014b0-ec12-4246-9251-02c09634a0f0"
      },
      "execution_count": 96,
      "outputs": [
        {
          "output_type": "stream",
          "name": "stdout",
          "text": [
            "Requirement already satisfied: resampy in /usr/local/lib/python3.10/dist-packages (0.4.2)\n",
            "Requirement already satisfied: numpy>=1.17 in /usr/local/lib/python3.10/dist-packages (from resampy) (1.23.5)\n",
            "Requirement already satisfied: numba>=0.53 in /usr/local/lib/python3.10/dist-packages (from resampy) (0.56.4)\n",
            "Requirement already satisfied: llvmlite<0.40,>=0.39.0dev0 in /usr/local/lib/python3.10/dist-packages (from numba>=0.53->resampy) (0.39.1)\n",
            "Requirement already satisfied: setuptools in /usr/local/lib/python3.10/dist-packages (from numba>=0.53->resampy) (67.7.2)\n"
          ]
        }
      ]
    },
    {
      "cell_type": "code",
      "execution_count": 97,
      "metadata": {
        "id": "nllDmo_xRJM2",
        "colab": {
          "base_uri": "https://localhost:8080/"
        },
        "outputId": "09715946-99cc-4de0-b61b-29a6665de3bb"
      },
      "outputs": [
        {
          "output_type": "stream",
          "name": "stdout",
          "text": [
            "Drive already mounted at /content/gdrive; to attempt to forcibly remount, call drive.mount(\"/content/gdrive\", force_remount=True).\n"
          ]
        }
      ],
      "source": [
        "# Load various imports\n",
        "from datetime import datetime\n",
        "from os import listdir\n",
        "from os.path import isfile, join\n",
        "\n",
        "import librosa\n",
        "import librosa.display\n",
        "\n",
        "import numpy as np\n",
        "import pandas as pd\n",
        "\n",
        "from tensorflow.keras.models import Sequential\n",
        "from tensorflow.keras.layers import Dense, Dropout, Conv2D, MaxPooling2D, GlobalAveragePooling2D\n",
        "from keras.utils import to_categorical\n",
        "from tensorflow.keras.callbacks import ModelCheckpoint\n",
        "\n",
        "from sklearn.metrics import confusion_matrix, classification_report, roc_curve, auc\n",
        "from sklearn.model_selection import train_test_split\n",
        "from sklearn.preprocessing import LabelEncoder\n",
        "\n",
        "import matplotlib.pyplot as plt\n",
        "import seaborn as sns\n",
        "from google.colab import drive\n",
        "drive.mount('/content/gdrive')"
      ]
    },
    {
      "cell_type": "code",
      "source": [
        "mypath = \"/content/gdrive/MyDrive/Major_Project/ICBHI_final_database/audio_and_txt_files/\"\n",
        "filenames = [f for f in listdir(mypath) if (isfile(join(mypath, f)) and f.endswith('.wav'))]"
      ],
      "metadata": {
        "id": "fpDUKxiWCG9i"
      },
      "execution_count": 98,
      "outputs": []
    },
    {
      "cell_type": "code",
      "source": [
        "p_id_in_file = [] # patient IDs corresponding to each file\n",
        "for name in filenames:\n",
        "    p_id_in_file.append(int(name[:3]))\n",
        "\n",
        "p_id_in_file = np.array(p_id_in_file)"
      ],
      "metadata": {
        "id": "xTRiwkm6DRZj"
      },
      "execution_count": 99,
      "outputs": []
    },
    {
      "cell_type": "code",
      "source": [
        "max_pad_len = 862 # to make the length of all MFCC equal\n",
        "\n",
        "def extract_features(file_name):\n",
        "    \"\"\"\n",
        "    This function takes in the path for an audio file as a string, loads it, and returns the MFCC\n",
        "    of the audio\"\"\"\n",
        "\n",
        "    try:\n",
        "        audio, sample_rate = librosa.load(file_name, res_type='kaiser_fast', duration=20)\n",
        "        mfccs = librosa.feature.mfcc(y=audio, sr=sample_rate, n_mfcc=40)\n",
        "        pad_width = max_pad_len - mfccs.shape[1]\n",
        "        mfccs = np.pad(mfccs, pad_width=((0, 0), (0, pad_width)), mode='constant')\n",
        "\n",
        "    except Exception as e:\n",
        "        print(\"Error encountered while parsing file: \", file_name)\n",
        "        return None\n",
        "\n",
        "    return mfccs"
      ],
      "metadata": {
        "id": "7R6uQWqSDWcA"
      },
      "execution_count": 100,
      "outputs": []
    },
    {
      "cell_type": "code",
      "source": [
        "filepaths = [join(mypath, f) for f in filenames] # full paths of files"
      ],
      "metadata": {
        "id": "0nvC1Pj5DZfU"
      },
      "execution_count": 101,
      "outputs": []
    },
    {
      "cell_type": "code",
      "source": [
        "p_diag = pd.read_csv(\"/content/gdrive/MyDrive/Major_Project/ICBHI_final_database/patient_diagnosis.csv\") # patient diagnosis file"
      ],
      "metadata": {
        "id": "kMtmDikWDdEU"
      },
      "execution_count": 102,
      "outputs": []
    },
    {
      "cell_type": "code",
      "source": [
        "p_id_in_file[0]"
      ],
      "metadata": {
        "colab": {
          "base_uri": "https://localhost:8080/"
        },
        "id": "3_MMkCfNkeFY",
        "outputId": "1e47fb85-145e-45a8-b1a6-213498045a88"
      },
      "execution_count": 103,
      "outputs": [
        {
          "output_type": "execute_result",
          "data": {
            "text/plain": [
              "160"
            ]
          },
          "metadata": {},
          "execution_count": 103
        }
      ]
    },
    {
      "cell_type": "code",
      "source": [
        "labels = []\n",
        "for x in p_id_in_file:\n",
        "  labels.append(p_diag[p_diag['patient_Id']==x]['Disease'].values[0])"
      ],
      "metadata": {
        "id": "iJzvPWrWKSTx"
      },
      "execution_count": 104,
      "outputs": []
    },
    {
      "cell_type": "code",
      "source": [
        "label=[]\n",
        "for i in  labels:\n",
        "    if i != 'Pneumonia':\n",
        "        i=\"NO\"\n",
        "    label.append(i)"
      ],
      "metadata": {
        "id": "QoMMVAT6D1fp"
      },
      "execution_count": 105,
      "outputs": []
    },
    {
      "cell_type": "code",
      "source": [
        "labels=np.array(label)"
      ],
      "metadata": {
        "id": "u9XPt_6vD4d6"
      },
      "execution_count": 106,
      "outputs": []
    },
    {
      "cell_type": "code",
      "source": [
        "count=0\n",
        "for i in labels:\n",
        "  if(i=='Pneumonia'):\n",
        "    count+=1\n",
        "print(count)"
      ],
      "metadata": {
        "colab": {
          "base_uri": "https://localhost:8080/"
        },
        "id": "mOqxMIVhSye-",
        "outputId": "f6652b56-a01b-42c2-e375-7b6f125d4368"
      },
      "execution_count": 107,
      "outputs": [
        {
          "output_type": "stream",
          "name": "stdout",
          "text": [
            "37\n"
          ]
        }
      ]
    },
    {
      "cell_type": "code",
      "source": [
        "features = []\n",
        "\n",
        "# Iterate through each sound file and extract the features\n",
        "for file_name in filepaths:\n",
        "    data = extract_features(file_name)\n",
        "    features.append(data)\n",
        "\n",
        "print('Finished feature extraction from ', len(features), ' files')\n",
        "features = np.array(features)"
      ],
      "metadata": {
        "colab": {
          "base_uri": "https://localhost:8080/"
        },
        "id": "dx4kgi3xD6kI",
        "outputId": "85a08600-3951-40ae-9506-1b1f3613abbd"
      },
      "execution_count": 108,
      "outputs": [
        {
          "output_type": "stream",
          "name": "stdout",
          "text": [
            "Finished feature extraction from  920  files\n"
          ]
        }
      ]
    },
    {
      "cell_type": "code",
      "source": [
        "# plot an MFCC\n",
        "plt.figure(figsize=(10, 4))\n",
        "librosa.display.specshow(features[0], x_axis='time')\n",
        "plt.colorbar()\n",
        "plt.title('MFCC')\n",
        "plt.tight_layout()\n",
        "plt.show()"
      ],
      "metadata": {
        "id": "8SbM4_ImD9dq",
        "colab": {
          "base_uri": "https://localhost:8080/",
          "height": 407
        },
        "outputId": "2b7292a5-4869-45bd-fa49-52b6043856fd"
      },
      "execution_count": null,
      "outputs": [
        {
          "output_type": "display_data",
          "data": {
            "text/plain": [
              "<Figure size 1000x400 with 2 Axes>"
            ],
            "image/png": "[encoded data removed]"
          },
          "metadata": {}
        }
      ]
    },
    {
      "cell_type": "code",
      "source": [
        " features= np.array(features) # convert to numpy array"
      ],
      "metadata": {
        "id": "3e0tKBtsEBGK"
      },
      "execution_count": null,
      "outputs": []
    },
    {
      "cell_type": "code",
      "source": [
        "# delete the very rare diseases\n",
        "features1 = np.delete(features, np.where((labels == 'Asthma') | (labels == 'LRTI'))[0], axis=0)\n",
        "\n",
        "labels1 = np.delete(labels, np.where((labels == 'Asthma') | (labels == 'LRTI'))[0], axis=0)"
      ],
      "metadata": {
        "id": "94oX6r7gHaKq"
      },
      "execution_count": null,
      "outputs": []
    },
    {
      "cell_type": "code",
      "source": [
        "# print class counts\n",
        "unique_elements, counts_elements = np.unique(labels, return_counts=True)\n",
        "print(np.asarray((unique_elements, counts_elements)))"
      ],
      "metadata": {
        "colab": {
          "base_uri": "https://localhost:8080/"
        },
        "id": "s_5F8NYRHao7",
        "outputId": "59e4fb41-44ed-4290-906e-9d2f6a423664"
      },
      "execution_count": null,
      "outputs": [
        {
          "output_type": "stream",
          "name": "stdout",
          "text": [
            "[['NO' 'Pneumonia']\n",
            " ['883' '37']]\n"
          ]
        }
      ]
    },
    {
      "cell_type": "code",
      "source": [
        "# plot class counts\n",
        "y_pos = np.arange(len(unique_elements))\n",
        "plt.figure(figsize=(12,8))\n",
        "plt.bar(unique_elements, counts_elements, align='center', alpha=0.5)\n",
        "plt.xticks(y_pos, unique_elements)\n",
        "plt.ylabel('Count')\n",
        "plt.xlabel('Disease')\n",
        "plt.title('Disease Count in Sound Files (No Asthma or LRTI)')\n",
        "plt.show()"
      ],
      "metadata": {
        "colab": {
          "base_uri": "https://localhost:8080/",
          "height": 718
        },
        "id": "YaBbqCI5HgTO",
        "outputId": "f792bffe-e62f-4f55-9abc-2eef55443ecb"
      },
      "execution_count": null,
      "outputs": [
        {
          "output_type": "display_data",
          "data": {
            "text/plain": [
              "<Figure size 1200x800 with 1 Axes>"
            ],
            "image/png": "[encoded data removed]"
          },
          "metadata": {}
        }
      ]
    },
    {
      "cell_type": "code",
      "source": [
        "# One-hot encode labels\n",
        "le = LabelEncoder()\n",
        "i_labels = le.fit_transform(labels)\n",
        "oh_labels = to_categorical(i_labels)"
      ],
      "metadata": {
        "id": "cNKwdky7HqXE"
      },
      "execution_count": null,
      "outputs": []
    },
    {
      "cell_type": "code",
      "source": [
        "oh_labels"
      ],
      "metadata": {
        "colab": {
          "base_uri": "https://localhost:8080/"
        },
        "id": "UF__V8GiHvuO",
        "outputId": "313679b2-4b54-4e48-d74b-43efaf2ade14"
      },
      "execution_count": null,
      "outputs": [
        {
          "output_type": "execute_result",
          "data": {
            "text/plain": [
              "array([[1., 0.],\n",
              "       [1., 0.],\n",
              "       [1., 0.],\n",
              "       ...,\n",
              "       [1., 0.],\n",
              "       [1., 0.],\n",
              "       [1., 0.]], dtype=float32)"
            ]
          },
          "metadata": {},
          "execution_count": 76
        }
      ]
    },
    {
      "cell_type": "code",
      "source": [
        "# add channel dimension for CNN\n",
        "features1 = np.reshape(features, (*features.shape,1))"
      ],
      "metadata": {
        "id": "pH-QC3WBH34i"
      },
      "execution_count": null,
      "outputs": []
    },
    {
      "cell_type": "code",
      "source": [
        "# train test split\n",
        "x_train, x_test, y_train, y_test = train_test_split(features1, oh_labels, stratify=oh_labels,\n",
        "                                                    test_size=0.2, random_state = 42)"
      ],
      "metadata": {
        "id": "cROkcn5HIHDS"
      },
      "execution_count": null,
      "outputs": []
    },
    {
      "cell_type": "markdown",
      "source": [
        "Convolutional Neural Network (CNN) model architecture\n",
        "\n",
        "Our model will be a Convolutional Neural Network (CNN) using Keras and a Tensorflow backend.\n",
        "\n",
        "We will use a sequential model, with a simple model architecture, consisting of four Conv2D convolution layers, with our final output layer being a dense layer.\n",
        "\n",
        "The convolution layers are designed for feature detection. It works by sliding a filter window over the input and performing a matrix multiplication and storing the result in a feature map. This operation is known as a convolution.\n",
        "\n",
        "The filter parameter specifies the number of nodes in each layer. Each layer will increase in size from 16, 32, 64 to 128, while the kernel_size parameter specifies the size of the kernel window which in this case is 2 resulting in a 2x2 filter matrix.\n",
        "\n",
        "The first layer will receive the input shape of (40, 862, 1) where 40 is the number of MFCC's, 862 is the number of frames taking padding into account and the 1 signifying that the audio is mono.\n",
        "\n",
        "The activation function we will be using for our convolutional layers is ReLU. We will use a small Dropout value of 20% on our convolutional layers.\n",
        "\n",
        "Each convolutional layer has an associated pooling layer of MaxPooling2D type with the final convolutional layer having a GlobalAveragePooling2D type. The pooling layer is to reduce the dimensionality of the model (by reducing the parameters and subsquent computation requirements) which serves to shorten the training time and reduce overfitting. The Max Pooling type takes the maximum size for each window and the Global Average Pooling type takes the average which is suitable for feeding into our dense output layer.\n",
        "\n",
        "Our output layer will have 6 nodes (num_labels) which matches the number of possible classifications. The activation is for our output layer is softmax. Softmax makes the output sum up to 1 so the output can be interpreted as probabilities. The model will then make its prediction based on which option has the highest probability."
      ],
      "metadata": {
        "id": "5t-74s4BITwL"
      }
    },
    {
      "cell_type": "code",
      "source": [
        "num_rows = 40\n",
        "num_columns = 862\n",
        "num_channels = 1\n",
        "\n",
        "num_labels = oh_labels.shape[1]\n",
        "filter_size = 2\n",
        "\n",
        "# Construct model\n",
        "model = Sequential()\n",
        "model.add(Conv2D(filters=16, kernel_size=filter_size,\n",
        "                 input_shape=(num_rows, num_columns, num_channels), activation='relu'))\n",
        "model.add(MaxPooling2D(pool_size=2))\n",
        "model.add(Dropout(0.2))\n",
        "\n",
        "model.add(Conv2D(filters=32, kernel_size=filter_size, activation='relu'))\n",
        "model.add(MaxPooling2D(pool_size=2))\n",
        "model.add(Dropout(0.2))\n",
        "\n",
        "model.add(Conv2D(filters=64, kernel_size=filter_size, activation='relu'))\n",
        "model.add(MaxPooling2D(pool_size=2))\n",
        "model.add(Dropout(0.2))\n",
        "\n",
        "model.add(Conv2D(filters=128, kernel_size=filter_size, activation='relu'))\n",
        "model.add(MaxPooling2D(pool_size=2))\n",
        "model.add(Dropout(0.2))\n",
        "\n",
        "model.add(GlobalAveragePooling2D())\n",
        "\n",
        "model.add(Dense(2, activation='softmax'))"
      ],
      "metadata": {
        "id": "91g1AHS2INNT"
      },
      "execution_count": null,
      "outputs": []
    },
    {
      "cell_type": "code",
      "source": [
        "# Compile the model\n",
        "model.compile(loss='categorical_crossentropy', metrics=['accuracy'], optimizer='adam')"
      ],
      "metadata": {
        "id": "lyfa5C56IiSW"
      },
      "execution_count": null,
      "outputs": []
    },
    {
      "cell_type": "code",
      "source": [
        "# Display model architecture summary\n",
        "model.summary()\n",
        "\n",
        "# Calculate pre-training accuracy\n",
        "score = model.evaluate(x_test, y_test, verbose=1)\n",
        "accuracy = 100*score[1]\n",
        "\n",
        "print(\"Pre-training accuracy: %.4f%%\" % accuracy)"
      ],
      "metadata": {
        "colab": {
          "base_uri": "https://localhost:8080/"
        },
        "id": "LxxKl-PfIlKd",
        "outputId": "4894450b-3897-48a1-e1f6-f4a8c1104c03"
      },
      "execution_count": null,
      "outputs": [
        {
          "output_type": "stream",
          "name": "stdout",
          "text": [
            "Model: \"sequential\"\n",
            "_________________________________________________________________\n",
            " Layer (type)                Output Shape              Param #   \n",
            "=================================================================\n",
            " conv2d (Conv2D)             (None, 39, 861, 16)       80        \n",
            "                                                                 \n",
            " max_pooling2d (MaxPooling2  (None, 19, 430, 16)       0         \n",
            " D)                                                              \n",
            "                                                                 \n",
            " dropout (Dropout)           (None, 19, 430, 16)       0         \n",
            "                                                                 \n",
            " conv2d_1 (Conv2D)           (None, 18, 429, 32)       2080      \n",
            "                                                                 \n",
            " max_pooling2d_1 (MaxPoolin  (None, 9, 214, 32)        0         \n",
            " g2D)                                                            \n",
            "                                                                 \n",
            " dropout_1 (Dropout)         (None, 9, 214, 32)        0         \n",
            "                                                                 \n",
            " conv2d_2 (Conv2D)           (None, 8, 213, 64)        8256      \n",
            "                                                                 \n",
            " max_pooling2d_2 (MaxPoolin  (None, 4, 106, 64)        0         \n",
            " g2D)                                                            \n",
            "                                                                 \n",
            " dropout_2 (Dropout)         (None, 4, 106, 64)        0         \n",
            "                                                                 \n",
            " conv2d_3 (Conv2D)           (None, 3, 105, 128)       32896     \n",
            "                                                                 \n",
            " max_pooling2d_3 (MaxPoolin  (None, 1, 52, 128)        0         \n",
            " g2D)                                                            \n",
            "                                                                 \n",
            " dropout_3 (Dropout)         (None, 1, 52, 128)        0         \n",
            "                                                                 \n",
            " global_average_pooling2d (  (None, 128)               0         \n",
            " GlobalAveragePooling2D)                                         \n",
            "                                                                 \n",
            " dense (Dense)               (None, 2)                 258       \n",
            "                                                                 \n",
            "=================================================================\n",
            "Total params: 43570 (170.20 KB)\n",
            "Trainable params: 43570 (170.20 KB)\n",
            "Non-trainable params: 0 (0.00 Byte)\n",
            "_________________________________________________________________\n",
            "6/6 [==============================] - 2s 199ms/step - loss: 4.6387 - accuracy: 0.0380\n",
            "Pre-training accuracy: 3.8043%\n"
          ]
        }
      ]
    },
    {
      "cell_type": "markdown",
      "source": [
        "Training\n",
        "\n",
        "Here we will train the model. If we have a trained model, we can load it instead from the next cell."
      ],
      "metadata": {
        "id": "S2fHFg9xIs-3"
      }
    },
    {
      "cell_type": "code",
      "source": [
        "# train model\n",
        "num_epochs = 250\n",
        "num_batch_size = 128\n",
        "\n",
        "callbacks = [\n",
        "    ModelCheckpoint(\n",
        "        filepath='mymodel2_{epoch:02d}.h5',\n",
        "        # Path where to save the model\n",
        "        # The two parameters below mean that we will overwrite\n",
        "        # the current checkpoint if and only if\n",
        "        # the `val_accuracy` score has improved.\n",
        "        save_best_only=True,\n",
        "        monitor='val_accuracy',\n",
        "        verbose=1)\n",
        "]\n",
        "start = datetime.now()\n",
        "\n",
        "model.fit(x_train, y_train, batch_size=num_batch_size, epochs=num_epochs,\n",
        "          validation_data=(x_test, y_test), callbacks=callbacks, verbose=1)\n",
        "\n",
        "\n",
        "duration = datetime.now() - start\n",
        "print(\"Training completed in time: \", duration)"
      ],
      "metadata": {
        "colab": {
          "base_uri": "https://localhost:8080/"
        },
        "id": "_r0-deP0IpD7",
        "outputId": "2e586430-78b2-457b-f31c-23681f0244d8"
      },
      "execution_count": null,
      "outputs": [
        {
          "output_type": "stream",
          "name": "stdout",
          "text": [
            "Epoch 1/250\n",
            "6/6 [==============================] - ETA: 0s - loss: 2.5637 - accuracy: 0.7935\n",
            "Epoch 1: val_accuracy improved from -inf to 0.96196, saving model to mymodel2_01.h5\n",
            "6/6 [==============================] - 23s 4s/step - loss: 2.5637 - accuracy: 0.7935 - val_loss: 0.4767 - val_accuracy: 0.9620\n",
            "Epoch 2/250\n"
          ]
        },
        {
          "output_type": "stream",
          "name": "stderr",
          "text": [
            "/usr/local/lib/python3.10/dist-packages/keras/src/engine/training.py:3000: UserWarning: You are saving your model as an HDF5 file via `model.save()`. This file format is considered legacy. We recommend using instead the native Keras format, e.g. `model.save('my_model.keras')`.\n",
            "  saving_api.save_model(\n"
          ]
        },
        {
          "output_type": "stream",
          "name": "stdout",
          "text": [
            "6/6 [==============================] - ETA: 0s - loss: 1.1423 - accuracy: 0.9592\n",
            "Epoch 2: val_accuracy did not improve from 0.96196\n",
            "6/6 [==============================] - 20s 3s/step - loss: 1.1423 - accuracy: 0.9592 - val_loss: 0.3516 - val_accuracy: 0.9620\n",
            "Epoch 3/250\n",
            "6/6 [==============================] - ETA: 0s - loss: 0.7883 - accuracy: 0.9592\n",
            "Epoch 3: val_accuracy did not improve from 0.96196\n",
            "6/6 [==============================] - 20s 3s/step - loss: 0.7883 - accuracy: 0.9592 - val_loss: 0.1868 - val_accuracy: 0.9620\n",
            "Epoch 4/250\n",
            "6/6 [==============================] - ETA: 0s - loss: 0.4276 - accuracy: 0.9592\n",
            "Epoch 4: val_accuracy did not improve from 0.96196\n",
            "6/6 [==============================] - 21s 4s/step - loss: 0.4276 - accuracy: 0.9592 - val_loss: 0.1975 - val_accuracy: 0.9620\n",
            "Epoch 5/250\n",
            "6/6 [==============================] - ETA: 0s - loss: 0.1837 - accuracy: 0.9592\n",
            "Epoch 5: val_accuracy did not improve from 0.96196\n",
            "6/6 [==============================] - 26s 5s/step - loss: 0.1837 - accuracy: 0.9592 - val_loss: 0.4900 - val_accuracy: 0.8804\n",
            "Epoch 6/250\n",
            "6/6 [==============================] - ETA: 0s - loss: 0.1979 - accuracy: 0.9606\n",
            "Epoch 6: val_accuracy did not improve from 0.96196\n",
            "6/6 [==============================] - 21s 4s/step - loss: 0.1979 - accuracy: 0.9606 - val_loss: 0.3898 - val_accuracy: 0.9620\n",
            "Epoch 7/250\n",
            "6/6 [==============================] - ETA: 0s - loss: 0.1459 - accuracy: 0.9592\n",
            "Epoch 7: val_accuracy did not improve from 0.96196\n",
            "6/6 [==============================] - 20s 3s/step - loss: 0.1459 - accuracy: 0.9592 - val_loss: 0.2585 - val_accuracy: 0.9620\n",
            "Epoch 8/250\n",
            "6/6 [==============================] - ETA: 0s - loss: 0.1589 - accuracy: 0.9592\n",
            "Epoch 8: val_accuracy did not improve from 0.96196\n",
            "6/6 [==============================] - 20s 3s/step - loss: 0.1589 - accuracy: 0.9592 - val_loss: 0.2395 - val_accuracy: 0.9620\n",
            "Epoch 9/250\n",
            "6/6 [==============================] - ETA: 0s - loss: 0.1516 - accuracy: 0.9592\n",
            "Epoch 9: val_accuracy did not improve from 0.96196\n",
            "6/6 [==============================] - 22s 3s/step - loss: 0.1516 - accuracy: 0.9592 - val_loss: 0.2825 - val_accuracy: 0.9620\n",
            "Epoch 10/250\n",
            "6/6 [==============================] - ETA: 0s - loss: 0.1411 - accuracy: 0.9592\n",
            "Epoch 10: val_accuracy did not improve from 0.96196\n",
            "6/6 [==============================] - 19s 3s/step - loss: 0.1411 - accuracy: 0.9592 - val_loss: 0.3080 - val_accuracy: 0.9620\n",
            "Epoch 11/250\n",
            "6/6 [==============================] - ETA: 0s - loss: 0.1396 - accuracy: 0.9592\n",
            "Epoch 11: val_accuracy did not improve from 0.96196\n",
            "6/6 [==============================] - 21s 4s/step - loss: 0.1396 - accuracy: 0.9592 - val_loss: 0.2732 - val_accuracy: 0.9620\n",
            "Epoch 12/250\n",
            "6/6 [==============================] - ETA: 0s - loss: 0.1332 - accuracy: 0.9592\n",
            "Epoch 12: val_accuracy did not improve from 0.96196\n",
            "6/6 [==============================] - 20s 3s/step - loss: 0.1332 - accuracy: 0.9592 - val_loss: 0.2320 - val_accuracy: 0.9620\n",
            "Epoch 13/250\n",
            "6/6 [==============================] - ETA: 0s - loss: 0.1328 - accuracy: 0.9592\n",
            "Epoch 13: val_accuracy did not improve from 0.96196\n",
            "6/6 [==============================] - 20s 3s/step - loss: 0.1328 - accuracy: 0.9592 - val_loss: 0.2331 - val_accuracy: 0.9620\n",
            "Epoch 14/250\n",
            "6/6 [==============================] - ETA: 0s - loss: 0.1299 - accuracy: 0.9592\n",
            "Epoch 14: val_accuracy did not improve from 0.96196\n",
            "6/6 [==============================] - 22s 4s/step - loss: 0.1299 - accuracy: 0.9592 - val_loss: 0.2359 - val_accuracy: 0.9620\n",
            "Epoch 15/250\n",
            "6/6 [==============================] - ETA: 0s - loss: 0.1295 - accuracy: 0.9592\n",
            "Epoch 15: val_accuracy improved from 0.96196 to 0.96739, saving model to mymodel2_15.h5\n",
            "6/6 [==============================] - 19s 3s/step - loss: 0.1295 - accuracy: 0.9592 - val_loss: 0.2096 - val_accuracy: 0.9674\n",
            "Epoch 16/250\n",
            "6/6 [==============================] - ETA: 0s - loss: 0.1276 - accuracy: 0.9592\n",
            "Epoch 16: val_accuracy did not improve from 0.96739\n",
            "6/6 [==============================] - 20s 3s/step - loss: 0.1276 - accuracy: 0.9592 - val_loss: 0.2350 - val_accuracy: 0.9457\n",
            "Epoch 17/250\n",
            "6/6 [==============================] - ETA: 0s - loss: 0.1300 - accuracy: 0.9592\n",
            "Epoch 17: val_accuracy did not improve from 0.96739\n",
            "6/6 [==============================] - 22s 3s/step - loss: 0.1300 - accuracy: 0.9592 - val_loss: 0.2002 - val_accuracy: 0.9620\n",
            "Epoch 18/250\n",
            "6/6 [==============================] - ETA: 0s - loss: 0.1257 - accuracy: 0.9592\n",
            "Epoch 18: val_accuracy did not improve from 0.96739\n",
            "6/6 [==============================] - 20s 3s/step - loss: 0.1257 - accuracy: 0.9592 - val_loss: 0.1997 - val_accuracy: 0.9620\n",
            "Epoch 19/250\n",
            "6/6 [==============================] - ETA: 0s - loss: 0.1294 - accuracy: 0.9592\n",
            "Epoch 19: val_accuracy did not improve from 0.96739\n",
            "6/6 [==============================] - 21s 4s/step - loss: 0.1294 - accuracy: 0.9592 - val_loss: 0.2070 - val_accuracy: 0.9511\n",
            "Epoch 20/250\n",
            "6/6 [==============================] - ETA: 0s - loss: 0.1272 - accuracy: 0.9592\n",
            "Epoch 20: val_accuracy did not improve from 0.96739\n",
            "6/6 [==============================] - 20s 3s/step - loss: 0.1272 - accuracy: 0.9592 - val_loss: 0.1915 - val_accuracy: 0.9620\n",
            "Epoch 21/250\n",
            "6/6 [==============================] - ETA: 0s - loss: 0.1243 - accuracy: 0.9592\n",
            "Epoch 21: val_accuracy did not improve from 0.96739\n",
            "6/6 [==============================] - 19s 3s/step - loss: 0.1243 - accuracy: 0.9592 - val_loss: 0.1956 - val_accuracy: 0.9620\n",
            "Epoch 22/250\n",
            "6/6 [==============================] - ETA: 0s - loss: 0.1245 - accuracy: 0.9592\n",
            "Epoch 22: val_accuracy did not improve from 0.96739\n",
            "6/6 [==============================] - 21s 4s/step - loss: 0.1245 - accuracy: 0.9592 - val_loss: 0.1938 - val_accuracy: 0.9620\n",
            "Epoch 23/250\n",
            "6/6 [==============================] - ETA: 0s - loss: 0.1258 - accuracy: 0.9592\n",
            "Epoch 23: val_accuracy did not improve from 0.96739\n",
            "6/6 [==============================] - 20s 3s/step - loss: 0.1258 - accuracy: 0.9592 - val_loss: 0.1830 - val_accuracy: 0.9620\n",
            "Epoch 24/250\n",
            "6/6 [==============================] - ETA: 0s - loss: 0.1263 - accuracy: 0.9592\n",
            "Epoch 24: val_accuracy did not improve from 0.96739\n",
            "6/6 [==============================] - 20s 4s/step - loss: 0.1263 - accuracy: 0.9592 - val_loss: 0.2101 - val_accuracy: 0.9402\n",
            "Epoch 25/250\n",
            "6/6 [==============================] - ETA: 0s - loss: 0.1263 - accuracy: 0.9592\n",
            "Epoch 25: val_accuracy did not improve from 0.96739\n",
            "6/6 [==============================] - 22s 4s/step - loss: 0.1263 - accuracy: 0.9592 - val_loss: 0.1798 - val_accuracy: 0.9674\n",
            "Epoch 26/250\n",
            "6/6 [==============================] - ETA: 0s - loss: 0.1200 - accuracy: 0.9592\n",
            "Epoch 26: val_accuracy did not improve from 0.96739\n",
            "6/6 [==============================] - 19s 3s/step - loss: 0.1200 - accuracy: 0.9592 - val_loss: 0.2074 - val_accuracy: 0.9402\n",
            "Epoch 27/250\n",
            "6/6 [==============================] - ETA: 0s - loss: 0.1194 - accuracy: 0.9592\n",
            "Epoch 27: val_accuracy did not improve from 0.96739\n",
            "6/6 [==============================] - 20s 3s/step - loss: 0.1194 - accuracy: 0.9592 - val_loss: 0.1873 - val_accuracy: 0.9620\n",
            "Epoch 28/250\n",
            "6/6 [==============================] - ETA: 0s - loss: 0.1193 - accuracy: 0.9592\n",
            "Epoch 28: val_accuracy did not improve from 0.96739\n",
            "6/6 [==============================] - 21s 3s/step - loss: 0.1193 - accuracy: 0.9592 - val_loss: 0.1891 - val_accuracy: 0.9565\n",
            "Epoch 29/250\n",
            "6/6 [==============================] - ETA: 0s - loss: 0.1182 - accuracy: 0.9592\n",
            "Epoch 29: val_accuracy did not improve from 0.96739\n",
            "6/6 [==============================] - 19s 3s/step - loss: 0.1182 - accuracy: 0.9592 - val_loss: 0.1822 - val_accuracy: 0.9620\n",
            "Epoch 30/250\n",
            "6/6 [==============================] - ETA: 0s - loss: 0.1175 - accuracy: 0.9592\n",
            "Epoch 30: val_accuracy did not improve from 0.96739\n",
            "6/6 [==============================] - 21s 4s/step - loss: 0.1175 - accuracy: 0.9592 - val_loss: 0.1931 - val_accuracy: 0.9511\n",
            "Epoch 31/250\n",
            "6/6 [==============================] - ETA: 0s - loss: 0.1146 - accuracy: 0.9592\n",
            "Epoch 31: val_accuracy did not improve from 0.96739\n",
            "6/6 [==============================] - 21s 3s/step - loss: 0.1146 - accuracy: 0.9592 - val_loss: 0.1763 - val_accuracy: 0.9620\n",
            "Epoch 32/250\n",
            "6/6 [==============================] - ETA: 0s - loss: 0.1155 - accuracy: 0.9592\n",
            "Epoch 32: val_accuracy did not improve from 0.96739\n",
            "6/6 [==============================] - 19s 3s/step - loss: 0.1155 - accuracy: 0.9592 - val_loss: 0.1896 - val_accuracy: 0.9511\n",
            "Epoch 33/250\n",
            "6/6 [==============================] - ETA: 0s - loss: 0.1131 - accuracy: 0.9592\n",
            "Epoch 33: val_accuracy did not improve from 0.96739\n",
            "6/6 [==============================] - 22s 4s/step - loss: 0.1131 - accuracy: 0.9592 - val_loss: 0.1842 - val_accuracy: 0.9565\n",
            "Epoch 34/250\n",
            "6/6 [==============================] - ETA: 0s - loss: 0.1090 - accuracy: 0.9592\n",
            "Epoch 34: val_accuracy did not improve from 0.96739\n",
            "6/6 [==============================] - 20s 3s/step - loss: 0.1090 - accuracy: 0.9592 - val_loss: 0.1795 - val_accuracy: 0.9565\n",
            "Epoch 35/250\n",
            "6/6 [==============================] - ETA: 0s - loss: 0.1153 - accuracy: 0.9592\n",
            "Epoch 35: val_accuracy did not improve from 0.96739\n",
            "6/6 [==============================] - 31s 4s/step - loss: 0.1153 - accuracy: 0.9592 - val_loss: 0.1804 - val_accuracy: 0.9511\n",
            "Epoch 36/250\n",
            "6/6 [==============================] - ETA: 0s - loss: 0.1066 - accuracy: 0.9592\n",
            "Epoch 36: val_accuracy did not improve from 0.96739\n",
            "6/6 [==============================] - 20s 3s/step - loss: 0.1066 - accuracy: 0.9592 - val_loss: 0.1857 - val_accuracy: 0.9511\n",
            "Epoch 37/250\n",
            "6/6 [==============================] - ETA: 0s - loss: 0.1110 - accuracy: 0.9592\n",
            "Epoch 37: val_accuracy did not improve from 0.96739\n",
            "6/6 [==============================] - 21s 4s/step - loss: 0.1110 - accuracy: 0.9592 - val_loss: 0.1725 - val_accuracy: 0.9511\n",
            "Epoch 38/250\n",
            "6/6 [==============================] - ETA: 0s - loss: 0.1048 - accuracy: 0.9592\n",
            "Epoch 38: val_accuracy did not improve from 0.96739\n",
            "6/6 [==============================] - 21s 3s/step - loss: 0.1048 - accuracy: 0.9592 - val_loss: 0.1856 - val_accuracy: 0.9348\n",
            "Epoch 39/250\n",
            "6/6 [==============================] - ETA: 0s - loss: 0.1101 - accuracy: 0.9606\n",
            "Epoch 39: val_accuracy did not improve from 0.96739\n",
            "6/6 [==============================] - 20s 3s/step - loss: 0.1101 - accuracy: 0.9606 - val_loss: 0.1767 - val_accuracy: 0.9348\n",
            "Epoch 40/250\n",
            "6/6 [==============================] - ETA: 0s - loss: 0.1043 - accuracy: 0.9606\n",
            "Epoch 40: val_accuracy did not improve from 0.96739\n",
            "6/6 [==============================] - 22s 3s/step - loss: 0.1043 - accuracy: 0.9606 - val_loss: 0.1691 - val_accuracy: 0.9402\n",
            "Epoch 41/250\n",
            "6/6 [==============================] - ETA: 0s - loss: 0.1071 - accuracy: 0.9579\n",
            "Epoch 41: val_accuracy did not improve from 0.96739\n",
            "6/6 [==============================] - 20s 3s/step - loss: 0.1071 - accuracy: 0.9579 - val_loss: 0.2016 - val_accuracy: 0.9130\n",
            "Epoch 42/250\n",
            "6/6 [==============================] - ETA: 0s - loss: 0.1091 - accuracy: 0.9592\n",
            "Epoch 42: val_accuracy did not improve from 0.96739\n",
            "6/6 [==============================] - 22s 4s/step - loss: 0.1091 - accuracy: 0.9592 - val_loss: 0.1766 - val_accuracy: 0.9348\n",
            "Epoch 43/250\n",
            "6/6 [==============================] - ETA: 0s - loss: 0.1046 - accuracy: 0.9579\n",
            "Epoch 43: val_accuracy did not improve from 0.96739\n",
            "6/6 [==============================] - 20s 3s/step - loss: 0.1046 - accuracy: 0.9579 - val_loss: 0.1721 - val_accuracy: 0.9348\n",
            "Epoch 44/250\n",
            "6/6 [==============================] - ETA: 0s - loss: 0.0947 - accuracy: 0.9592\n",
            "Epoch 44: val_accuracy did not improve from 0.96739\n",
            "6/6 [==============================] - 20s 3s/step - loss: 0.0947 - accuracy: 0.9592 - val_loss: 0.1947 - val_accuracy: 0.9130\n",
            "Epoch 45/250\n",
            "6/6 [==============================] - ETA: 0s - loss: 0.1039 - accuracy: 0.9606\n",
            "Epoch 45: val_accuracy did not improve from 0.96739\n",
            "6/6 [==============================] - 22s 3s/step - loss: 0.1039 - accuracy: 0.9606 - val_loss: 0.1763 - val_accuracy: 0.9293\n",
            "Epoch 46/250\n",
            "6/6 [==============================] - ETA: 0s - loss: 0.1028 - accuracy: 0.9633\n",
            "Epoch 46: val_accuracy did not improve from 0.96739\n",
            "6/6 [==============================] - 20s 3s/step - loss: 0.1028 - accuracy: 0.9633 - val_loss: 0.1905 - val_accuracy: 0.9130\n",
            "Epoch 47/250\n",
            "6/6 [==============================] - ETA: 0s - loss: 0.0988 - accuracy: 0.9606\n",
            "Epoch 47: val_accuracy did not improve from 0.96739\n",
            "6/6 [==============================] - 21s 4s/step - loss: 0.0988 - accuracy: 0.9606 - val_loss: 0.1469 - val_accuracy: 0.9457\n",
            "Epoch 48/250\n",
            "6/6 [==============================] - ETA: 0s - loss: 0.1008 - accuracy: 0.9606\n",
            "Epoch 48: val_accuracy did not improve from 0.96739\n",
            "6/6 [==============================] - 21s 3s/step - loss: 0.1008 - accuracy: 0.9606 - val_loss: 0.1828 - val_accuracy: 0.9239\n",
            "Epoch 49/250\n",
            "6/6 [==============================] - ETA: 0s - loss: 0.1015 - accuracy: 0.9606\n",
            "Epoch 49: val_accuracy did not improve from 0.96739\n",
            "6/6 [==============================] - 20s 3s/step - loss: 0.1015 - accuracy: 0.9606 - val_loss: 0.1896 - val_accuracy: 0.9130\n",
            "Epoch 50/250\n",
            "6/6 [==============================] - ETA: 0s - loss: 0.0892 - accuracy: 0.9620\n",
            "Epoch 50: val_accuracy did not improve from 0.96739\n",
            "6/6 [==============================] - 23s 4s/step - loss: 0.0892 - accuracy: 0.9620 - val_loss: 0.1569 - val_accuracy: 0.9348\n",
            "Epoch 51/250\n",
            "6/6 [==============================] - ETA: 0s - loss: 0.0970 - accuracy: 0.9633\n",
            "Epoch 51: val_accuracy did not improve from 0.96739\n",
            "6/6 [==============================] - 20s 3s/step - loss: 0.0970 - accuracy: 0.9633 - val_loss: 0.1892 - val_accuracy: 0.9130\n",
            "Epoch 52/250\n",
            "6/6 [==============================] - ETA: 0s - loss: 0.0889 - accuracy: 0.9688\n",
            "Epoch 52: val_accuracy did not improve from 0.96739\n",
            "6/6 [==============================] - 22s 4s/step - loss: 0.0889 - accuracy: 0.9688 - val_loss: 0.1624 - val_accuracy: 0.9348\n",
            "Epoch 53/250\n",
            "6/6 [==============================] - ETA: 0s - loss: 0.0983 - accuracy: 0.9538\n",
            "Epoch 53: val_accuracy did not improve from 0.96739\n",
            "6/6 [==============================] - 20s 3s/step - loss: 0.0983 - accuracy: 0.9538 - val_loss: 0.1827 - val_accuracy: 0.9130\n",
            "Epoch 54/250\n",
            "6/6 [==============================] - ETA: 0s - loss: 0.0892 - accuracy: 0.9620\n",
            "Epoch 54: val_accuracy did not improve from 0.96739\n",
            "6/6 [==============================] - 20s 3s/step - loss: 0.0892 - accuracy: 0.9620 - val_loss: 0.1631 - val_accuracy: 0.9348\n",
            "Epoch 55/250\n",
            "6/6 [==============================] - ETA: 0s - loss: 0.0907 - accuracy: 0.9620\n",
            "Epoch 55: val_accuracy did not improve from 0.96739\n",
            "6/6 [==============================] - 22s 3s/step - loss: 0.0907 - accuracy: 0.9620 - val_loss: 0.1942 - val_accuracy: 0.9185\n",
            "Epoch 56/250\n",
            "6/6 [==============================] - ETA: 0s - loss: 0.0895 - accuracy: 0.9633\n",
            "Epoch 56: val_accuracy did not improve from 0.96739\n",
            "6/6 [==============================] - 20s 3s/step - loss: 0.0895 - accuracy: 0.9633 - val_loss: 0.1670 - val_accuracy: 0.9239\n",
            "Epoch 57/250\n",
            "6/6 [==============================] - ETA: 0s - loss: 0.0879 - accuracy: 0.9674\n",
            "Epoch 57: val_accuracy did not improve from 0.96739\n",
            "6/6 [==============================] - 21s 4s/step - loss: 0.0879 - accuracy: 0.9674 - val_loss: 0.1923 - val_accuracy: 0.9185\n",
            "Epoch 58/250\n",
            "6/6 [==============================] - ETA: 0s - loss: 0.0861 - accuracy: 0.9633\n",
            "Epoch 58: val_accuracy did not improve from 0.96739\n",
            "6/6 [==============================] - 20s 3s/step - loss: 0.0861 - accuracy: 0.9633 - val_loss: 0.2134 - val_accuracy: 0.8913\n",
            "Epoch 59/250\n",
            "6/6 [==============================] - ETA: 0s - loss: 0.0885 - accuracy: 0.9633\n",
            "Epoch 59: val_accuracy did not improve from 0.96739\n",
            "6/6 [==============================] - 20s 3s/step - loss: 0.0885 - accuracy: 0.9633 - val_loss: 0.1524 - val_accuracy: 0.9348\n",
            "Epoch 60/250\n",
            "6/6 [==============================] - ETA: 0s - loss: 0.0909 - accuracy: 0.9688\n",
            "Epoch 60: val_accuracy did not improve from 0.96739\n",
            "6/6 [==============================] - 22s 3s/step - loss: 0.0909 - accuracy: 0.9688 - val_loss: 0.1996 - val_accuracy: 0.8967\n",
            "Epoch 61/250\n",
            "6/6 [==============================] - ETA: 0s - loss: 0.0945 - accuracy: 0.9579\n",
            "Epoch 61: val_accuracy did not improve from 0.96739\n",
            "6/6 [==============================] - 20s 3s/step - loss: 0.0945 - accuracy: 0.9579 - val_loss: 0.1913 - val_accuracy: 0.9022\n",
            "Epoch 62/250\n",
            "6/6 [==============================] - ETA: 0s - loss: 0.0872 - accuracy: 0.9633\n",
            "Epoch 62: val_accuracy did not improve from 0.96739\n",
            "6/6 [==============================] - 21s 4s/step - loss: 0.0872 - accuracy: 0.9633 - val_loss: 0.1404 - val_accuracy: 0.9402\n",
            "Epoch 63/250\n",
            "6/6 [==============================] - ETA: 0s - loss: 0.0924 - accuracy: 0.9592\n",
            "Epoch 63: val_accuracy did not improve from 0.96739\n",
            "6/6 [==============================] - 20s 3s/step - loss: 0.0924 - accuracy: 0.9592 - val_loss: 0.1991 - val_accuracy: 0.9022\n",
            "Epoch 64/250\n",
            "6/6 [==============================] - ETA: 0s - loss: 0.0831 - accuracy: 0.9647\n",
            "Epoch 64: val_accuracy did not improve from 0.96739\n",
            "6/6 [==============================] - 29s 5s/step - loss: 0.0831 - accuracy: 0.9647 - val_loss: 0.1624 - val_accuracy: 0.9293\n",
            "Epoch 65/250\n",
            "6/6 [==============================] - ETA: 0s - loss: 0.0839 - accuracy: 0.9606\n",
            "Epoch 65: val_accuracy did not improve from 0.96739\n",
            "6/6 [==============================] - 20s 3s/step - loss: 0.0839 - accuracy: 0.9606 - val_loss: 0.1959 - val_accuracy: 0.9022\n",
            "Epoch 66/250\n",
            "6/6 [==============================] - ETA: 0s - loss: 0.0837 - accuracy: 0.9674\n",
            "Epoch 66: val_accuracy did not improve from 0.96739\n",
            "6/6 [==============================] - 21s 4s/step - loss: 0.0837 - accuracy: 0.9674 - val_loss: 0.1457 - val_accuracy: 0.9402\n",
            "Epoch 67/250\n",
            "6/6 [==============================] - ETA: 0s - loss: 0.0926 - accuracy: 0.9606\n",
            "Epoch 67: val_accuracy did not improve from 0.96739\n",
            "6/6 [==============================] - 21s 3s/step - loss: 0.0926 - accuracy: 0.9606 - val_loss: 0.2080 - val_accuracy: 0.8804\n",
            "Epoch 68/250\n",
            "6/6 [==============================] - ETA: 0s - loss: 0.0919 - accuracy: 0.9620\n",
            "Epoch 68: val_accuracy did not improve from 0.96739\n",
            "6/6 [==============================] - 20s 3s/step - loss: 0.0919 - accuracy: 0.9620 - val_loss: 0.1634 - val_accuracy: 0.9185\n",
            "Epoch 69/250\n",
            "6/6 [==============================] - ETA: 0s - loss: 0.0860 - accuracy: 0.9633\n",
            "Epoch 69: val_accuracy did not improve from 0.96739\n",
            "6/6 [==============================] - 22s 3s/step - loss: 0.0860 - accuracy: 0.9633 - val_loss: 0.1481 - val_accuracy: 0.9402\n",
            "Epoch 70/250\n",
            "6/6 [==============================] - ETA: 0s - loss: 0.0911 - accuracy: 0.9660\n",
            "Epoch 70: val_accuracy did not improve from 0.96739\n",
            "6/6 [==============================] - 20s 3s/step - loss: 0.0911 - accuracy: 0.9660 - val_loss: 0.1820 - val_accuracy: 0.9076\n",
            "Epoch 71/250\n",
            "6/6 [==============================] - ETA: 0s - loss: 0.0919 - accuracy: 0.9633\n",
            "Epoch 71: val_accuracy did not improve from 0.96739\n",
            "6/6 [==============================] - 21s 4s/step - loss: 0.0919 - accuracy: 0.9633 - val_loss: 0.1414 - val_accuracy: 0.9402\n",
            "Epoch 72/250\n",
            "6/6 [==============================] - ETA: 0s - loss: 0.0750 - accuracy: 0.9660\n",
            "Epoch 72: val_accuracy did not improve from 0.96739\n",
            "6/6 [==============================] - 21s 3s/step - loss: 0.0750 - accuracy: 0.9660 - val_loss: 0.1959 - val_accuracy: 0.9022\n",
            "Epoch 73/250\n",
            "6/6 [==============================] - ETA: 0s - loss: 0.0835 - accuracy: 0.9674\n",
            "Epoch 73: val_accuracy did not improve from 0.96739\n",
            "6/6 [==============================] - 20s 3s/step - loss: 0.0835 - accuracy: 0.9674 - val_loss: 0.1505 - val_accuracy: 0.9402\n",
            "Epoch 74/250\n",
            "6/6 [==============================] - ETA: 0s - loss: 0.0819 - accuracy: 0.9688\n",
            "Epoch 74: val_accuracy did not improve from 0.96739\n",
            "6/6 [==============================] - 22s 4s/step - loss: 0.0819 - accuracy: 0.9688 - val_loss: 0.1578 - val_accuracy: 0.9239\n",
            "Epoch 75/250\n",
            "6/6 [==============================] - ETA: 0s - loss: 0.0766 - accuracy: 0.9688\n",
            "Epoch 75: val_accuracy did not improve from 0.96739\n",
            "6/6 [==============================] - 20s 3s/step - loss: 0.0766 - accuracy: 0.9688 - val_loss: 0.1710 - val_accuracy: 0.9130\n",
            "Epoch 76/250\n",
            "6/6 [==============================] - ETA: 0s - loss: 0.0820 - accuracy: 0.9647\n",
            "Epoch 76: val_accuracy did not improve from 0.96739\n",
            "6/6 [==============================] - 21s 4s/step - loss: 0.0820 - accuracy: 0.9647 - val_loss: 0.1531 - val_accuracy: 0.9239\n",
            "Epoch 77/250\n",
            "6/6 [==============================] - ETA: 0s - loss: 0.0728 - accuracy: 0.9742\n",
            "Epoch 77: val_accuracy did not improve from 0.96739\n",
            "6/6 [==============================] - 21s 3s/step - loss: 0.0728 - accuracy: 0.9742 - val_loss: 0.1886 - val_accuracy: 0.9076\n",
            "Epoch 78/250\n",
            "6/6 [==============================] - ETA: 0s - loss: 0.0770 - accuracy: 0.9715\n",
            "Epoch 78: val_accuracy did not improve from 0.96739\n",
            "6/6 [==============================] - 20s 3s/step - loss: 0.0770 - accuracy: 0.9715 - val_loss: 0.1614 - val_accuracy: 0.9130\n",
            "Epoch 79/250\n",
            "6/6 [==============================] - ETA: 0s - loss: 0.0745 - accuracy: 0.9633\n",
            "Epoch 79: val_accuracy did not improve from 0.96739\n",
            "6/6 [==============================] - 22s 4s/step - loss: 0.0745 - accuracy: 0.9633 - val_loss: 0.1607 - val_accuracy: 0.9130\n",
            "Epoch 80/250\n",
            "6/6 [==============================] - ETA: 0s - loss: 0.0779 - accuracy: 0.9660\n",
            "Epoch 80: val_accuracy did not improve from 0.96739\n",
            "6/6 [==============================] - 20s 3s/step - loss: 0.0779 - accuracy: 0.9660 - val_loss: 0.1390 - val_accuracy: 0.9402\n",
            "Epoch 81/250\n",
            "6/6 [==============================] - ETA: 0s - loss: 0.0862 - accuracy: 0.9620\n",
            "Epoch 81: val_accuracy did not improve from 0.96739\n",
            "6/6 [==============================] - 21s 4s/step - loss: 0.0862 - accuracy: 0.9620 - val_loss: 0.1931 - val_accuracy: 0.8967\n",
            "Epoch 82/250\n",
            "6/6 [==============================] - ETA: 0s - loss: 0.0754 - accuracy: 0.9715\n",
            "Epoch 82: val_accuracy did not improve from 0.96739\n",
            "6/6 [==============================] - 21s 3s/step - loss: 0.0754 - accuracy: 0.9715 - val_loss: 0.1556 - val_accuracy: 0.9239\n",
            "Epoch 83/250\n",
            "6/6 [==============================] - ETA: 0s - loss: 0.0793 - accuracy: 0.9701\n",
            "Epoch 83: val_accuracy did not improve from 0.96739\n",
            "6/6 [==============================] - 20s 3s/step - loss: 0.0793 - accuracy: 0.9701 - val_loss: 0.1596 - val_accuracy: 0.9130\n",
            "Epoch 84/250\n",
            "6/6 [==============================] - ETA: 0s - loss: 0.0769 - accuracy: 0.9647\n",
            "Epoch 84: val_accuracy did not improve from 0.96739\n",
            "6/6 [==============================] - 23s 4s/step - loss: 0.0769 - accuracy: 0.9647 - val_loss: 0.1634 - val_accuracy: 0.9076\n",
            "Epoch 85/250\n",
            "6/6 [==============================] - ETA: 0s - loss: 0.0811 - accuracy: 0.9620\n",
            "Epoch 85: val_accuracy did not improve from 0.96739\n",
            "6/6 [==============================] - 20s 3s/step - loss: 0.0811 - accuracy: 0.9620 - val_loss: 0.1445 - val_accuracy: 0.9348\n",
            "Epoch 86/250\n",
            "6/6 [==============================] - ETA: 0s - loss: 0.0745 - accuracy: 0.9688\n",
            "Epoch 86: val_accuracy did not improve from 0.96739\n",
            "6/6 [==============================] - 21s 4s/step - loss: 0.0745 - accuracy: 0.9688 - val_loss: 0.1805 - val_accuracy: 0.9076\n",
            "Epoch 87/250\n",
            "6/6 [==============================] - ETA: 0s - loss: 0.0701 - accuracy: 0.9742\n",
            "Epoch 87: val_accuracy did not improve from 0.96739\n",
            "6/6 [==============================] - 21s 3s/step - loss: 0.0701 - accuracy: 0.9742 - val_loss: 0.1561 - val_accuracy: 0.9185\n",
            "Epoch 88/250\n",
            "6/6 [==============================] - ETA: 0s - loss: 0.0685 - accuracy: 0.9715\n",
            "Epoch 88: val_accuracy did not improve from 0.96739\n",
            "6/6 [==============================] - 20s 3s/step - loss: 0.0685 - accuracy: 0.9715 - val_loss: 0.2041 - val_accuracy: 0.8859\n",
            "Epoch 89/250\n",
            "6/6 [==============================] - ETA: 0s - loss: 0.0726 - accuracy: 0.9742\n",
            "Epoch 89: val_accuracy did not improve from 0.96739\n",
            "6/6 [==============================] - 22s 3s/step - loss: 0.0726 - accuracy: 0.9742 - val_loss: 0.1631 - val_accuracy: 0.9130\n",
            "Epoch 90/250\n",
            "6/6 [==============================] - ETA: 0s - loss: 0.0723 - accuracy: 0.9728\n",
            "Epoch 90: val_accuracy did not improve from 0.96739\n",
            "6/6 [==============================] - 20s 3s/step - loss: 0.0723 - accuracy: 0.9728 - val_loss: 0.2299 - val_accuracy: 0.8859\n",
            "Epoch 91/250\n",
            "6/6 [==============================] - ETA: 0s - loss: 0.0809 - accuracy: 0.9647\n",
            "Epoch 91: val_accuracy did not improve from 0.96739\n",
            "6/6 [==============================] - 21s 4s/step - loss: 0.0809 - accuracy: 0.9647 - val_loss: 0.1555 - val_accuracy: 0.9239\n",
            "Epoch 92/250\n",
            "6/6 [==============================] - ETA: 0s - loss: 0.0744 - accuracy: 0.9688\n",
            "Epoch 92: val_accuracy did not improve from 0.96739\n",
            "6/6 [==============================] - 21s 3s/step - loss: 0.0744 - accuracy: 0.9688 - val_loss: 0.1484 - val_accuracy: 0.9239\n",
            "Epoch 93/250\n",
            "6/6 [==============================] - ETA: 0s - loss: 0.0730 - accuracy: 0.9674\n",
            "Epoch 93: val_accuracy did not improve from 0.96739\n",
            "6/6 [==============================] - 31s 6s/step - loss: 0.0730 - accuracy: 0.9674 - val_loss: 0.2004 - val_accuracy: 0.8967\n",
            "Epoch 94/250\n",
            "6/6 [==============================] - ETA: 0s - loss: 0.0727 - accuracy: 0.9688\n",
            "Epoch 94: val_accuracy did not improve from 0.96739\n",
            "6/6 [==============================] - 20s 3s/step - loss: 0.0727 - accuracy: 0.9688 - val_loss: 0.1701 - val_accuracy: 0.9076\n",
            "Epoch 95/250\n",
            "6/6 [==============================] - ETA: 0s - loss: 0.0689 - accuracy: 0.9728\n",
            "Epoch 95: val_accuracy did not improve from 0.96739\n",
            "6/6 [==============================] - 22s 4s/step - loss: 0.0689 - accuracy: 0.9728 - val_loss: 0.1902 - val_accuracy: 0.9022\n",
            "Epoch 96/250\n",
            "6/6 [==============================] - ETA: 0s - loss: 0.0595 - accuracy: 0.9701\n",
            "Epoch 96: val_accuracy did not improve from 0.96739\n",
            "6/6 [==============================] - 20s 3s/step - loss: 0.0595 - accuracy: 0.9701 - val_loss: 0.1638 - val_accuracy: 0.9185\n",
            "Epoch 97/250\n",
            "6/6 [==============================] - ETA: 0s - loss: 0.0623 - accuracy: 0.9728\n",
            "Epoch 97: val_accuracy did not improve from 0.96739\n",
            "6/6 [==============================] - 20s 3s/step - loss: 0.0623 - accuracy: 0.9728 - val_loss: 0.2719 - val_accuracy: 0.8587\n",
            "Epoch 98/250\n",
            "6/6 [==============================] - ETA: 0s - loss: 0.0894 - accuracy: 0.9674\n",
            "Epoch 98: val_accuracy did not improve from 0.96739\n",
            "6/6 [==============================] - 22s 3s/step - loss: 0.0894 - accuracy: 0.9674 - val_loss: 0.1416 - val_accuracy: 0.9348\n",
            "Epoch 99/250\n",
            "6/6 [==============================] - ETA: 0s - loss: 0.0727 - accuracy: 0.9701\n",
            "Epoch 99: val_accuracy did not improve from 0.96739\n",
            "6/6 [==============================] - 20s 3s/step - loss: 0.0727 - accuracy: 0.9701 - val_loss: 0.1628 - val_accuracy: 0.9185\n",
            "Epoch 100/250\n",
            "6/6 [==============================] - ETA: 0s - loss: 0.0674 - accuracy: 0.9701\n",
            "Epoch 100: val_accuracy did not improve from 0.96739\n",
            "6/6 [==============================] - 21s 4s/step - loss: 0.0674 - accuracy: 0.9701 - val_loss: 0.1873 - val_accuracy: 0.9130\n",
            "Epoch 101/250\n",
            "6/6 [==============================] - ETA: 0s - loss: 0.0645 - accuracy: 0.9728\n",
            "Epoch 101: val_accuracy did not improve from 0.96739\n",
            "6/6 [==============================] - 20s 3s/step - loss: 0.0645 - accuracy: 0.9728 - val_loss: 0.1831 - val_accuracy: 0.9239\n",
            "Epoch 102/250\n",
            "6/6 [==============================] - ETA: 0s - loss: 0.0651 - accuracy: 0.9701\n",
            "Epoch 102: val_accuracy did not improve from 0.96739\n",
            "6/6 [==============================] - 20s 3s/step - loss: 0.0651 - accuracy: 0.9701 - val_loss: 0.1323 - val_accuracy: 0.9457\n",
            "Epoch 103/250\n",
            "6/6 [==============================] - ETA: 0s - loss: 0.0678 - accuracy: 0.9674\n",
            "Epoch 103: val_accuracy did not improve from 0.96739\n",
            "6/6 [==============================] - 22s 3s/step - loss: 0.0678 - accuracy: 0.9674 - val_loss: 0.2055 - val_accuracy: 0.8913\n",
            "Epoch 104/250\n",
            "6/6 [==============================] - ETA: 0s - loss: 0.0695 - accuracy: 0.9728\n",
            "Epoch 104: val_accuracy did not improve from 0.96739\n",
            "6/6 [==============================] - 20s 3s/step - loss: 0.0695 - accuracy: 0.9728 - val_loss: 0.1735 - val_accuracy: 0.9130\n",
            "Epoch 105/250\n",
            "6/6 [==============================] - ETA: 0s - loss: 0.0651 - accuracy: 0.9715\n",
            "Epoch 105: val_accuracy did not improve from 0.96739\n",
            "6/6 [==============================] - 21s 4s/step - loss: 0.0651 - accuracy: 0.9715 - val_loss: 0.1703 - val_accuracy: 0.9022\n",
            "Epoch 106/250\n",
            "6/6 [==============================] - ETA: 0s - loss: 0.0621 - accuracy: 0.9728\n",
            "Epoch 106: val_accuracy did not improve from 0.96739\n",
            "6/6 [==============================] - 21s 3s/step - loss: 0.0621 - accuracy: 0.9728 - val_loss: 0.1992 - val_accuracy: 0.9022\n",
            "Epoch 107/250\n",
            "6/6 [==============================] - ETA: 0s - loss: 0.0566 - accuracy: 0.9755\n",
            "Epoch 107: val_accuracy did not improve from 0.96739\n",
            "6/6 [==============================] - 20s 3s/step - loss: 0.0566 - accuracy: 0.9755 - val_loss: 0.1607 - val_accuracy: 0.9293\n",
            "Epoch 108/250\n",
            "6/6 [==============================] - ETA: 0s - loss: 0.0587 - accuracy: 0.9755\n",
            "Epoch 108: val_accuracy did not improve from 0.96739\n",
            "6/6 [==============================] - 22s 4s/step - loss: 0.0587 - accuracy: 0.9755 - val_loss: 0.1831 - val_accuracy: 0.9076\n",
            "Epoch 109/250\n",
            "6/6 [==============================] - ETA: 0s - loss: 0.0690 - accuracy: 0.9715\n",
            "Epoch 109: val_accuracy did not improve from 0.96739\n",
            "6/6 [==============================] - 20s 3s/step - loss: 0.0690 - accuracy: 0.9715 - val_loss: 0.2123 - val_accuracy: 0.8859\n",
            "Epoch 110/250\n",
            "6/6 [==============================] - ETA: 0s - loss: 0.0605 - accuracy: 0.9783\n",
            "Epoch 110: val_accuracy did not improve from 0.96739\n",
            "6/6 [==============================] - 21s 4s/step - loss: 0.0605 - accuracy: 0.9783 - val_loss: 0.1350 - val_accuracy: 0.9293\n",
            "Epoch 111/250\n",
            "6/6 [==============================] - ETA: 0s - loss: 0.0777 - accuracy: 0.9688\n",
            "Epoch 111: val_accuracy did not improve from 0.96739\n",
            "6/6 [==============================] - 21s 3s/step - loss: 0.0777 - accuracy: 0.9688 - val_loss: 0.2908 - val_accuracy: 0.8533\n",
            "Epoch 112/250\n",
            "6/6 [==============================] - ETA: 0s - loss: 0.0851 - accuracy: 0.9674\n",
            "Epoch 112: val_accuracy did not improve from 0.96739\n",
            "6/6 [==============================] - 20s 3s/step - loss: 0.0851 - accuracy: 0.9674 - val_loss: 0.1334 - val_accuracy: 0.9402\n",
            "Epoch 113/250\n",
            "6/6 [==============================] - ETA: 0s - loss: 0.0700 - accuracy: 0.9728\n",
            "Epoch 113: val_accuracy did not improve from 0.96739\n",
            "6/6 [==============================] - 22s 4s/step - loss: 0.0700 - accuracy: 0.9728 - val_loss: 0.1955 - val_accuracy: 0.9130\n",
            "Epoch 114/250\n",
            "6/6 [==============================] - ETA: 0s - loss: 0.0602 - accuracy: 0.9688\n",
            "Epoch 114: val_accuracy did not improve from 0.96739\n",
            "6/6 [==============================] - 20s 3s/step - loss: 0.0602 - accuracy: 0.9688 - val_loss: 0.1544 - val_accuracy: 0.9348\n",
            "Epoch 115/250\n",
            "6/6 [==============================] - ETA: 0s - loss: 0.0551 - accuracy: 0.9755\n",
            "Epoch 115: val_accuracy did not improve from 0.96739\n",
            "6/6 [==============================] - 20s 3s/step - loss: 0.0551 - accuracy: 0.9755 - val_loss: 0.2147 - val_accuracy: 0.8859\n",
            "Epoch 116/250\n",
            "6/6 [==============================] - ETA: 0s - loss: 0.0606 - accuracy: 0.9728\n",
            "Epoch 116: val_accuracy did not improve from 0.96739\n",
            "6/6 [==============================] - 22s 3s/step - loss: 0.0606 - accuracy: 0.9728 - val_loss: 0.1854 - val_accuracy: 0.9076\n",
            "Epoch 117/250\n",
            "6/6 [==============================] - ETA: 0s - loss: 0.0553 - accuracy: 0.9796\n",
            "Epoch 117: val_accuracy did not improve from 0.96739\n",
            "6/6 [==============================] - 20s 3s/step - loss: 0.0553 - accuracy: 0.9796 - val_loss: 0.1637 - val_accuracy: 0.9076\n",
            "Epoch 118/250\n",
            "6/6 [==============================] - ETA: 0s - loss: 0.0539 - accuracy: 0.9755\n",
            "Epoch 118: val_accuracy did not improve from 0.96739\n",
            "6/6 [==============================] - 23s 4s/step - loss: 0.0539 - accuracy: 0.9755 - val_loss: 0.2114 - val_accuracy: 0.8859\n",
            "Epoch 119/250\n",
            "6/6 [==============================] - ETA: 0s - loss: 0.0534 - accuracy: 0.9810\n",
            "Epoch 119: val_accuracy did not improve from 0.96739\n",
            "6/6 [==============================] - 20s 3s/step - loss: 0.0534 - accuracy: 0.9810 - val_loss: 0.1451 - val_accuracy: 0.9293\n",
            "Epoch 120/250\n",
            "6/6 [==============================] - ETA: 0s - loss: 0.0650 - accuracy: 0.9701\n",
            "Epoch 120: val_accuracy did not improve from 0.96739\n",
            "6/6 [==============================] - 21s 4s/step - loss: 0.0650 - accuracy: 0.9701 - val_loss: 0.2310 - val_accuracy: 0.8750\n",
            "Epoch 121/250\n",
            "6/6 [==============================] - ETA: 0s - loss: 0.0594 - accuracy: 0.9715\n",
            "Epoch 121: val_accuracy did not improve from 0.96739\n",
            "6/6 [==============================] - 21s 3s/step - loss: 0.0594 - accuracy: 0.9715 - val_loss: 0.1930 - val_accuracy: 0.8967\n",
            "Epoch 122/250\n",
            "6/6 [==============================] - ETA: 0s - loss: 0.0518 - accuracy: 0.9837\n",
            "Epoch 122: val_accuracy did not improve from 0.96739\n",
            "6/6 [==============================] - 20s 3s/step - loss: 0.0518 - accuracy: 0.9837 - val_loss: 0.1749 - val_accuracy: 0.9130\n",
            "Epoch 123/250\n",
            "6/6 [==============================] - ETA: 0s - loss: 0.0557 - accuracy: 0.9769\n",
            "Epoch 123: val_accuracy did not improve from 0.96739\n",
            "6/6 [==============================] - 29s 4s/step - loss: 0.0557 - accuracy: 0.9769 - val_loss: 0.2198 - val_accuracy: 0.8913\n",
            "Epoch 124/250\n",
            "6/6 [==============================] - ETA: 0s - loss: 0.0529 - accuracy: 0.9783\n",
            "Epoch 124: val_accuracy did not improve from 0.96739\n",
            "6/6 [==============================] - 20s 3s/step - loss: 0.0529 - accuracy: 0.9783 - val_loss: 0.1860 - val_accuracy: 0.9130\n",
            "Epoch 125/250\n",
            "6/6 [==============================] - ETA: 0s - loss: 0.0559 - accuracy: 0.9728\n",
            "Epoch 125: val_accuracy did not improve from 0.96739\n",
            "6/6 [==============================] - 21s 3s/step - loss: 0.0559 - accuracy: 0.9728 - val_loss: 0.1792 - val_accuracy: 0.9130\n",
            "Epoch 126/250\n",
            "6/6 [==============================] - ETA: 0s - loss: 0.0499 - accuracy: 0.9755\n",
            "Epoch 126: val_accuracy did not improve from 0.96739\n",
            "6/6 [==============================] - 20s 3s/step - loss: 0.0499 - accuracy: 0.9755 - val_loss: 0.1962 - val_accuracy: 0.8967\n",
            "Epoch 127/250\n",
            "6/6 [==============================] - ETA: 0s - loss: 0.0556 - accuracy: 0.9742\n",
            "Epoch 127: val_accuracy did not improve from 0.96739\n",
            "6/6 [==============================] - 22s 4s/step - loss: 0.0556 - accuracy: 0.9742 - val_loss: 0.2195 - val_accuracy: 0.8913\n",
            "Epoch 128/250\n",
            "6/6 [==============================] - ETA: 0s - loss: 0.0545 - accuracy: 0.9783\n",
            "Epoch 128: val_accuracy did not improve from 0.96739\n",
            "6/6 [==============================] - 20s 3s/step - loss: 0.0545 - accuracy: 0.9783 - val_loss: 0.1533 - val_accuracy: 0.9293\n",
            "Epoch 129/250\n",
            "6/6 [==============================] - ETA: 0s - loss: 0.0628 - accuracy: 0.9742\n",
            "Epoch 129: val_accuracy did not improve from 0.96739\n",
            "6/6 [==============================] - 20s 3s/step - loss: 0.0628 - accuracy: 0.9742 - val_loss: 0.1640 - val_accuracy: 0.9293\n",
            "Epoch 130/250\n",
            "6/6 [==============================] - ETA: 0s - loss: 0.0483 - accuracy: 0.9769\n",
            "Epoch 130: val_accuracy did not improve from 0.96739\n",
            "6/6 [==============================] - 22s 3s/step - loss: 0.0483 - accuracy: 0.9769 - val_loss: 0.2206 - val_accuracy: 0.8913\n",
            "Epoch 131/250\n",
            "6/6 [==============================] - ETA: 0s - loss: 0.0480 - accuracy: 0.9851\n",
            "Epoch 131: val_accuracy did not improve from 0.96739\n",
            "6/6 [==============================] - 20s 3s/step - loss: 0.0480 - accuracy: 0.9851 - val_loss: 0.1514 - val_accuracy: 0.9293\n",
            "Epoch 132/250\n",
            "6/6 [==============================] - ETA: 0s - loss: 0.0498 - accuracy: 0.9796\n",
            "Epoch 132: val_accuracy did not improve from 0.96739\n",
            "6/6 [==============================] - 22s 4s/step - loss: 0.0498 - accuracy: 0.9796 - val_loss: 0.2693 - val_accuracy: 0.8641\n",
            "Epoch 133/250\n",
            "6/6 [==============================] - ETA: 0s - loss: 0.0569 - accuracy: 0.9742\n",
            "Epoch 133: val_accuracy did not improve from 0.96739\n",
            "6/6 [==============================] - 20s 3s/step - loss: 0.0569 - accuracy: 0.9742 - val_loss: 0.1442 - val_accuracy: 0.9239\n",
            "Epoch 134/250\n",
            "6/6 [==============================] - ETA: 0s - loss: 0.0489 - accuracy: 0.9864\n",
            "Epoch 134: val_accuracy did not improve from 0.96739\n",
            "6/6 [==============================] - 20s 3s/step - loss: 0.0489 - accuracy: 0.9864 - val_loss: 0.1816 - val_accuracy: 0.9239\n",
            "Epoch 135/250\n",
            "6/6 [==============================] - ETA: 0s - loss: 0.0493 - accuracy: 0.9769\n",
            "Epoch 135: val_accuracy did not improve from 0.96739\n",
            "6/6 [==============================] - 22s 3s/step - loss: 0.0493 - accuracy: 0.9769 - val_loss: 0.1952 - val_accuracy: 0.9239\n",
            "Epoch 136/250\n",
            "6/6 [==============================] - ETA: 0s - loss: 0.0495 - accuracy: 0.9796\n",
            "Epoch 136: val_accuracy did not improve from 0.96739\n",
            "6/6 [==============================] - 20s 3s/step - loss: 0.0495 - accuracy: 0.9796 - val_loss: 0.1341 - val_accuracy: 0.9348\n",
            "Epoch 137/250\n",
            "6/6 [==============================] - ETA: 0s - loss: 0.0952 - accuracy: 0.9592\n",
            "Epoch 137: val_accuracy did not improve from 0.96739\n",
            "6/6 [==============================] - 21s 4s/step - loss: 0.0952 - accuracy: 0.9592 - val_loss: 0.2106 - val_accuracy: 0.9022\n",
            "Epoch 138/250\n",
            "6/6 [==============================] - ETA: 0s - loss: 0.0521 - accuracy: 0.9769\n",
            "Epoch 138: val_accuracy did not improve from 0.96739\n",
            "6/6 [==============================] - 21s 3s/step - loss: 0.0521 - accuracy: 0.9769 - val_loss: 0.1573 - val_accuracy: 0.9348\n",
            "Epoch 139/250\n",
            "6/6 [==============================] - ETA: 0s - loss: 0.0527 - accuracy: 0.9755\n",
            "Epoch 139: val_accuracy did not improve from 0.96739\n",
            "6/6 [==============================] - 23s 4s/step - loss: 0.0527 - accuracy: 0.9755 - val_loss: 0.1975 - val_accuracy: 0.9130\n",
            "Epoch 140/250\n",
            "6/6 [==============================] - ETA: 0s - loss: 0.0477 - accuracy: 0.9742\n",
            "Epoch 140: val_accuracy did not improve from 0.96739\n",
            "6/6 [==============================] - 21s 3s/step - loss: 0.0477 - accuracy: 0.9742 - val_loss: 0.1624 - val_accuracy: 0.9239\n",
            "Epoch 141/250\n",
            "6/6 [==============================] - ETA: 0s - loss: 0.0420 - accuracy: 0.9864\n",
            "Epoch 141: val_accuracy did not improve from 0.96739\n",
            "6/6 [==============================] - 20s 3s/step - loss: 0.0420 - accuracy: 0.9864 - val_loss: 0.1956 - val_accuracy: 0.8913\n",
            "Epoch 142/250\n",
            "6/6 [==============================] - ETA: 0s - loss: 0.0487 - accuracy: 0.9823\n",
            "Epoch 142: val_accuracy did not improve from 0.96739\n",
            "6/6 [==============================] - 22s 4s/step - loss: 0.0487 - accuracy: 0.9823 - val_loss: 0.1706 - val_accuracy: 0.9076\n",
            "Epoch 143/250\n",
            "6/6 [==============================] - ETA: 0s - loss: 0.0437 - accuracy: 0.9823\n",
            "Epoch 143: val_accuracy did not improve from 0.96739\n",
            "6/6 [==============================] - 20s 3s/step - loss: 0.0437 - accuracy: 0.9823 - val_loss: 0.1892 - val_accuracy: 0.9185\n",
            "Epoch 144/250\n",
            "6/6 [==============================] - ETA: 0s - loss: 0.0476 - accuracy: 0.9769\n",
            "Epoch 144: val_accuracy did not improve from 0.96739\n",
            "6/6 [==============================] - 21s 4s/step - loss: 0.0476 - accuracy: 0.9769 - val_loss: 0.2401 - val_accuracy: 0.8804\n",
            "Epoch 145/250\n",
            "6/6 [==============================] - ETA: 0s - loss: 0.0480 - accuracy: 0.9837\n",
            "Epoch 145: val_accuracy did not improve from 0.96739\n",
            "6/6 [==============================] - 21s 3s/step - loss: 0.0480 - accuracy: 0.9837 - val_loss: 0.1572 - val_accuracy: 0.9239\n",
            "Epoch 146/250\n",
            "6/6 [==============================] - ETA: 0s - loss: 0.0480 - accuracy: 0.9755\n",
            "Epoch 146: val_accuracy did not improve from 0.96739\n",
            "6/6 [==============================] - 20s 3s/step - loss: 0.0480 - accuracy: 0.9755 - val_loss: 0.2291 - val_accuracy: 0.8967\n",
            "Epoch 147/250\n",
            "6/6 [==============================] - ETA: 0s - loss: 0.0481 - accuracy: 0.9837\n",
            "Epoch 147: val_accuracy did not improve from 0.96739\n",
            "6/6 [==============================] - 22s 4s/step - loss: 0.0481 - accuracy: 0.9837 - val_loss: 0.1506 - val_accuracy: 0.9348\n",
            "Epoch 148/250\n",
            "6/6 [==============================] - ETA: 0s - loss: 0.0477 - accuracy: 0.9742\n",
            "Epoch 148: val_accuracy did not improve from 0.96739\n",
            "6/6 [==============================] - 20s 3s/step - loss: 0.0477 - accuracy: 0.9742 - val_loss: 0.2374 - val_accuracy: 0.8804\n",
            "Epoch 149/250\n",
            "6/6 [==============================] - ETA: 0s - loss: 0.0517 - accuracy: 0.9755\n",
            "Epoch 149: val_accuracy did not improve from 0.96739\n",
            "6/6 [==============================] - 20s 3s/step - loss: 0.0517 - accuracy: 0.9755 - val_loss: 0.1535 - val_accuracy: 0.9348\n",
            "Epoch 150/250\n",
            "6/6 [==============================] - ETA: 0s - loss: 0.0410 - accuracy: 0.9837\n",
            "Epoch 150: val_accuracy did not improve from 0.96739\n",
            "6/6 [==============================] - 22s 3s/step - loss: 0.0410 - accuracy: 0.9837 - val_loss: 0.1924 - val_accuracy: 0.9130\n",
            "Epoch 151/250\n",
            "6/6 [==============================] - ETA: 0s - loss: 0.0429 - accuracy: 0.9823\n",
            "Epoch 151: val_accuracy did not improve from 0.96739\n",
            "6/6 [==============================] - 20s 3s/step - loss: 0.0429 - accuracy: 0.9823 - val_loss: 0.1674 - val_accuracy: 0.9348\n",
            "Epoch 152/250\n",
            "6/6 [==============================] - ETA: 0s - loss: 0.0391 - accuracy: 0.9851\n",
            "Epoch 152: val_accuracy did not improve from 0.96739\n",
            "6/6 [==============================] - 31s 6s/step - loss: 0.0391 - accuracy: 0.9851 - val_loss: 0.1870 - val_accuracy: 0.9239\n",
            "Epoch 153/250\n",
            "6/6 [==============================] - ETA: 0s - loss: 0.0371 - accuracy: 0.9837\n",
            "Epoch 153: val_accuracy did not improve from 0.96739\n",
            "6/6 [==============================] - 20s 3s/step - loss: 0.0371 - accuracy: 0.9837 - val_loss: 0.2211 - val_accuracy: 0.9076\n",
            "Epoch 154/250\n",
            "6/6 [==============================] - ETA: 0s - loss: 0.0415 - accuracy: 0.9810\n",
            "Epoch 154: val_accuracy did not improve from 0.96739\n",
            "6/6 [==============================] - 21s 3s/step - loss: 0.0415 - accuracy: 0.9810 - val_loss: 0.2316 - val_accuracy: 0.9130\n",
            "Epoch 155/250\n",
            "6/6 [==============================] - ETA: 0s - loss: 0.0386 - accuracy: 0.9851\n",
            "Epoch 155: val_accuracy did not improve from 0.96739\n",
            "6/6 [==============================] - 20s 3s/step - loss: 0.0386 - accuracy: 0.9851 - val_loss: 0.1649 - val_accuracy: 0.9402\n",
            "Epoch 156/250\n",
            "6/6 [==============================] - ETA: 0s - loss: 0.0320 - accuracy: 0.9878\n",
            "Epoch 156: val_accuracy did not improve from 0.96739\n",
            "6/6 [==============================] - 22s 4s/step - loss: 0.0320 - accuracy: 0.9878 - val_loss: 0.2029 - val_accuracy: 0.9239\n",
            "Epoch 157/250\n",
            "6/6 [==============================] - ETA: 0s - loss: 0.0428 - accuracy: 0.9837\n",
            "Epoch 157: val_accuracy did not improve from 0.96739\n",
            "6/6 [==============================] - 20s 3s/step - loss: 0.0428 - accuracy: 0.9837 - val_loss: 0.2019 - val_accuracy: 0.9185\n",
            "Epoch 158/250\n",
            "6/6 [==============================] - ETA: 0s - loss: 0.0388 - accuracy: 0.9851\n",
            "Epoch 158: val_accuracy did not improve from 0.96739\n",
            "6/6 [==============================] - 19s 3s/step - loss: 0.0388 - accuracy: 0.9851 - val_loss: 0.1607 - val_accuracy: 0.9348\n",
            "Epoch 159/250\n",
            "6/6 [==============================] - ETA: 0s - loss: 0.0356 - accuracy: 0.9878\n",
            "Epoch 159: val_accuracy did not improve from 0.96739\n",
            "6/6 [==============================] - 23s 4s/step - loss: 0.0356 - accuracy: 0.9878 - val_loss: 0.2352 - val_accuracy: 0.8859\n",
            "Epoch 160/250\n",
            "6/6 [==============================] - ETA: 0s - loss: 0.0397 - accuracy: 0.9905\n",
            "Epoch 160: val_accuracy did not improve from 0.96739\n",
            "6/6 [==============================] - 20s 3s/step - loss: 0.0397 - accuracy: 0.9905 - val_loss: 0.1456 - val_accuracy: 0.9348\n",
            "Epoch 161/250\n",
            "6/6 [==============================] - ETA: 0s - loss: 0.0382 - accuracy: 0.9864\n",
            "Epoch 161: val_accuracy did not improve from 0.96739\n",
            "6/6 [==============================] - 20s 4s/step - loss: 0.0382 - accuracy: 0.9864 - val_loss: 0.2382 - val_accuracy: 0.9022\n",
            "Epoch 162/250\n",
            "6/6 [==============================] - ETA: 0s - loss: 0.0360 - accuracy: 0.9864\n",
            "Epoch 162: val_accuracy did not improve from 0.96739\n",
            "6/6 [==============================] - 21s 3s/step - loss: 0.0360 - accuracy: 0.9864 - val_loss: 0.1630 - val_accuracy: 0.9348\n",
            "Epoch 163/250\n",
            "6/6 [==============================] - ETA: 0s - loss: 0.0350 - accuracy: 0.9878\n",
            "Epoch 163: val_accuracy did not improve from 0.96739\n",
            "6/6 [==============================] - 20s 3s/step - loss: 0.0350 - accuracy: 0.9878 - val_loss: 0.1831 - val_accuracy: 0.9348\n",
            "Epoch 164/250\n",
            "6/6 [==============================] - ETA: 0s - loss: 0.0402 - accuracy: 0.9823\n",
            "Epoch 164: val_accuracy did not improve from 0.96739\n",
            "6/6 [==============================] - 22s 4s/step - loss: 0.0402 - accuracy: 0.9823 - val_loss: 0.2363 - val_accuracy: 0.8967\n",
            "Epoch 165/250\n",
            "6/6 [==============================] - ETA: 0s - loss: 0.0369 - accuracy: 0.9905\n",
            "Epoch 165: val_accuracy did not improve from 0.96739\n",
            "6/6 [==============================] - 20s 3s/step - loss: 0.0369 - accuracy: 0.9905 - val_loss: 0.1622 - val_accuracy: 0.9402\n",
            "Epoch 166/250\n",
            "6/6 [==============================] - ETA: 0s - loss: 0.0346 - accuracy: 0.9823\n",
            "Epoch 166: val_accuracy did not improve from 0.96739\n",
            "6/6 [==============================] - 21s 4s/step - loss: 0.0346 - accuracy: 0.9823 - val_loss: 0.2365 - val_accuracy: 0.8967\n",
            "Epoch 167/250\n",
            "6/6 [==============================] - ETA: 0s - loss: 0.0302 - accuracy: 0.9905\n",
            "Epoch 167: val_accuracy did not improve from 0.96739\n",
            "6/6 [==============================] - 20s 3s/step - loss: 0.0302 - accuracy: 0.9905 - val_loss: 0.1653 - val_accuracy: 0.9402\n",
            "Epoch 168/250\n",
            "6/6 [==============================] - ETA: 0s - loss: 0.0341 - accuracy: 0.9837\n",
            "Epoch 168: val_accuracy did not improve from 0.96739\n",
            "6/6 [==============================] - 20s 3s/step - loss: 0.0341 - accuracy: 0.9837 - val_loss: 0.2078 - val_accuracy: 0.9130\n",
            "Epoch 169/250\n",
            "6/6 [==============================] - ETA: 0s - loss: 0.0346 - accuracy: 0.9864\n",
            "Epoch 169: val_accuracy did not improve from 0.96739\n",
            "6/6 [==============================] - 22s 4s/step - loss: 0.0346 - accuracy: 0.9864 - val_loss: 0.1539 - val_accuracy: 0.9457\n",
            "Epoch 170/250\n",
            "6/6 [==============================] - ETA: 0s - loss: 0.0348 - accuracy: 0.9864\n",
            "Epoch 170: val_accuracy did not improve from 0.96739\n",
            "6/6 [==============================] - 20s 3s/step - loss: 0.0348 - accuracy: 0.9864 - val_loss: 0.2029 - val_accuracy: 0.9293\n",
            "Epoch 171/250\n",
            "6/6 [==============================] - ETA: 0s - loss: 0.0351 - accuracy: 0.9864\n",
            "Epoch 171: val_accuracy did not improve from 0.96739\n",
            "6/6 [==============================] - 20s 3s/step - loss: 0.0351 - accuracy: 0.9864 - val_loss: 0.1928 - val_accuracy: 0.9293\n",
            "Epoch 172/250\n",
            "6/6 [==============================] - ETA: 0s - loss: 0.0304 - accuracy: 0.9891\n",
            "Epoch 172: val_accuracy did not improve from 0.96739\n",
            "6/6 [==============================] - 22s 3s/step - loss: 0.0304 - accuracy: 0.9891 - val_loss: 0.1977 - val_accuracy: 0.9293\n",
            "Epoch 173/250\n",
            "6/6 [==============================] - ETA: 0s - loss: 0.0301 - accuracy: 0.9878\n",
            "Epoch 173: val_accuracy did not improve from 0.96739\n",
            "6/6 [==============================] - 20s 3s/step - loss: 0.0301 - accuracy: 0.9878 - val_loss: 0.2136 - val_accuracy: 0.9185\n",
            "Epoch 174/250\n",
            "6/6 [==============================] - ETA: 0s - loss: 0.0283 - accuracy: 0.9905\n",
            "Epoch 174: val_accuracy did not improve from 0.96739\n",
            "6/6 [==============================] - 22s 4s/step - loss: 0.0283 - accuracy: 0.9905 - val_loss: 0.1863 - val_accuracy: 0.9348\n",
            "Epoch 175/250\n",
            "6/6 [==============================] - ETA: 0s - loss: 0.0278 - accuracy: 0.9905\n",
            "Epoch 175: val_accuracy did not improve from 0.96739\n",
            "6/6 [==============================] - 20s 3s/step - loss: 0.0278 - accuracy: 0.9905 - val_loss: 0.2143 - val_accuracy: 0.9185\n",
            "Epoch 176/250\n",
            "6/6 [==============================] - ETA: 0s - loss: 0.0292 - accuracy: 0.9891\n",
            "Epoch 176: val_accuracy did not improve from 0.96739\n",
            "6/6 [==============================] - 20s 3s/step - loss: 0.0292 - accuracy: 0.9891 - val_loss: 0.2247 - val_accuracy: 0.9130\n",
            "Epoch 177/250\n",
            "6/6 [==============================] - ETA: 0s - loss: 0.0265 - accuracy: 0.9891\n",
            "Epoch 177: val_accuracy did not improve from 0.96739\n",
            "6/6 [==============================] - 22s 3s/step - loss: 0.0265 - accuracy: 0.9891 - val_loss: 0.1714 - val_accuracy: 0.9348\n",
            "Epoch 178/250\n",
            "6/6 [==============================] - ETA: 0s - loss: 0.0296 - accuracy: 0.9891\n",
            "Epoch 178: val_accuracy did not improve from 0.96739\n",
            "6/6 [==============================] - 20s 3s/step - loss: 0.0296 - accuracy: 0.9891 - val_loss: 0.2539 - val_accuracy: 0.8967\n",
            "Epoch 179/250\n",
            "6/6 [==============================] - ETA: 0s - loss: 0.0365 - accuracy: 0.9796\n",
            "Epoch 179: val_accuracy did not improve from 0.96739\n",
            "6/6 [==============================] - 21s 4s/step - loss: 0.0365 - accuracy: 0.9796 - val_loss: 0.2296 - val_accuracy: 0.9185\n",
            "Epoch 180/250\n",
            "6/6 [==============================] - ETA: 0s - loss: 0.0337 - accuracy: 0.9878\n",
            "Epoch 180: val_accuracy did not improve from 0.96739\n",
            "6/6 [==============================] - 21s 3s/step - loss: 0.0337 - accuracy: 0.9878 - val_loss: 0.1983 - val_accuracy: 0.9348\n",
            "Epoch 181/250\n",
            "6/6 [==============================] - ETA: 0s - loss: 0.0280 - accuracy: 0.9905\n",
            "Epoch 181: val_accuracy did not improve from 0.96739\n",
            "6/6 [==============================] - 32s 6s/step - loss: 0.0280 - accuracy: 0.9905 - val_loss: 0.1931 - val_accuracy: 0.9348\n",
            "Epoch 182/250\n",
            "6/6 [==============================] - ETA: 0s - loss: 0.0282 - accuracy: 0.9851\n",
            "Epoch 182: val_accuracy did not improve from 0.96739\n",
            "6/6 [==============================] - 20s 3s/step - loss: 0.0282 - accuracy: 0.9851 - val_loss: 0.2492 - val_accuracy: 0.8804\n",
            "Epoch 183/250\n",
            "6/6 [==============================] - ETA: 0s - loss: 0.0347 - accuracy: 0.9851\n",
            "Epoch 183: val_accuracy did not improve from 0.96739\n",
            "6/6 [==============================] - 22s 4s/step - loss: 0.0347 - accuracy: 0.9851 - val_loss: 0.1944 - val_accuracy: 0.9348\n",
            "Epoch 184/250\n",
            "6/6 [==============================] - ETA: 0s - loss: 0.0298 - accuracy: 0.9864\n",
            "Epoch 184: val_accuracy did not improve from 0.96739\n",
            "6/6 [==============================] - 20s 3s/step - loss: 0.0298 - accuracy: 0.9864 - val_loss: 0.2104 - val_accuracy: 0.9293\n",
            "Epoch 185/250\n",
            "6/6 [==============================] - ETA: 0s - loss: 0.0249 - accuracy: 0.9905\n",
            "Epoch 185: val_accuracy did not improve from 0.96739\n",
            "6/6 [==============================] - 20s 3s/step - loss: 0.0249 - accuracy: 0.9905 - val_loss: 0.2028 - val_accuracy: 0.9293\n",
            "Epoch 186/250\n",
            "6/6 [==============================] - ETA: 0s - loss: 0.0278 - accuracy: 0.9905\n",
            "Epoch 186: val_accuracy did not improve from 0.96739\n",
            "6/6 [==============================] - 22s 3s/step - loss: 0.0278 - accuracy: 0.9905 - val_loss: 0.2543 - val_accuracy: 0.9022\n",
            "Epoch 187/250\n",
            "6/6 [==============================] - ETA: 0s - loss: 0.0290 - accuracy: 0.9891\n",
            "Epoch 187: val_accuracy did not improve from 0.96739\n",
            "6/6 [==============================] - 20s 3s/step - loss: 0.0290 - accuracy: 0.9891 - val_loss: 0.1912 - val_accuracy: 0.9348\n",
            "Epoch 188/250\n",
            "6/6 [==============================] - ETA: 0s - loss: 0.0250 - accuracy: 0.9905\n",
            "Epoch 188: val_accuracy did not improve from 0.96739\n",
            "6/6 [==============================] - 21s 4s/step - loss: 0.0250 - accuracy: 0.9905 - val_loss: 0.3041 - val_accuracy: 0.8859\n",
            "Epoch 189/250\n",
            "6/6 [==============================] - ETA: 0s - loss: 0.0292 - accuracy: 0.9864\n",
            "Epoch 189: val_accuracy did not improve from 0.96739\n",
            "6/6 [==============================] - 22s 4s/step - loss: 0.0292 - accuracy: 0.9864 - val_loss: 0.2307 - val_accuracy: 0.9293\n",
            "Epoch 190/250\n",
            "6/6 [==============================] - ETA: 0s - loss: 0.0240 - accuracy: 0.9905\n",
            "Epoch 190: val_accuracy did not improve from 0.96739\n",
            "6/6 [==============================] - 21s 4s/step - loss: 0.0240 - accuracy: 0.9905 - val_loss: 0.2165 - val_accuracy: 0.9239\n",
            "Epoch 191/250\n",
            "6/6 [==============================] - ETA: 0s - loss: 0.0309 - accuracy: 0.9851\n",
            "Epoch 191: val_accuracy did not improve from 0.96739\n",
            "6/6 [==============================] - 21s 3s/step - loss: 0.0309 - accuracy: 0.9851 - val_loss: 0.2345 - val_accuracy: 0.9185\n",
            "Epoch 192/250\n",
            "6/6 [==============================] - ETA: 0s - loss: 0.0445 - accuracy: 0.9837\n",
            "Epoch 192: val_accuracy did not improve from 0.96739\n",
            "6/6 [==============================] - 20s 3s/step - loss: 0.0445 - accuracy: 0.9837 - val_loss: 0.3745 - val_accuracy: 0.8750\n",
            "Epoch 193/250\n",
            "6/6 [==============================] - ETA: 0s - loss: 0.0386 - accuracy: 0.9864\n",
            "Epoch 193: val_accuracy did not improve from 0.96739\n",
            "6/6 [==============================] - 22s 4s/step - loss: 0.0386 - accuracy: 0.9864 - val_loss: 0.2182 - val_accuracy: 0.9402\n",
            "Epoch 194/250\n",
            "6/6 [==============================] - ETA: 0s - loss: 0.0406 - accuracy: 0.9796\n",
            "Epoch 194: val_accuracy did not improve from 0.96739\n",
            "6/6 [==============================] - 20s 3s/step - loss: 0.0406 - accuracy: 0.9796 - val_loss: 0.2117 - val_accuracy: 0.9293\n",
            "Epoch 195/250\n",
            "6/6 [==============================] - ETA: 0s - loss: 0.0562 - accuracy: 0.9769\n",
            "Epoch 195: val_accuracy did not improve from 0.96739\n",
            "6/6 [==============================] - 20s 3s/step - loss: 0.0562 - accuracy: 0.9769 - val_loss: 0.2959 - val_accuracy: 0.8804\n",
            "Epoch 196/250\n",
            "6/6 [==============================] - ETA: 0s - loss: 0.0479 - accuracy: 0.9783\n",
            "Epoch 196: val_accuracy did not improve from 0.96739\n",
            "6/6 [==============================] - 22s 4s/step - loss: 0.0479 - accuracy: 0.9783 - val_loss: 0.1802 - val_accuracy: 0.9457\n",
            "Epoch 197/250\n",
            "6/6 [==============================] - ETA: 0s - loss: 0.0275 - accuracy: 0.9905\n",
            "Epoch 197: val_accuracy did not improve from 0.96739\n",
            "6/6 [==============================] - 20s 3s/step - loss: 0.0275 - accuracy: 0.9905 - val_loss: 0.2776 - val_accuracy: 0.8913\n",
            "Epoch 198/250\n",
            "6/6 [==============================] - ETA: 0s - loss: 0.0353 - accuracy: 0.9851\n",
            "Epoch 198: val_accuracy did not improve from 0.96739\n",
            "6/6 [==============================] - 22s 4s/step - loss: 0.0353 - accuracy: 0.9851 - val_loss: 0.1804 - val_accuracy: 0.9402\n",
            "Epoch 199/250\n",
            "6/6 [==============================] - ETA: 0s - loss: 0.0284 - accuracy: 0.9878\n",
            "Epoch 199: val_accuracy did not improve from 0.96739\n",
            "6/6 [==============================] - 20s 3s/step - loss: 0.0284 - accuracy: 0.9878 - val_loss: 0.2181 - val_accuracy: 0.9130\n",
            "Epoch 200/250\n",
            "6/6 [==============================] - ETA: 0s - loss: 0.0273 - accuracy: 0.9905\n",
            "Epoch 200: val_accuracy did not improve from 0.96739\n",
            "6/6 [==============================] - 20s 3s/step - loss: 0.0273 - accuracy: 0.9905 - val_loss: 0.2061 - val_accuracy: 0.9293\n",
            "Epoch 201/250\n",
            "6/6 [==============================] - ETA: 0s - loss: 0.0254 - accuracy: 0.9918\n",
            "Epoch 201: val_accuracy did not improve from 0.96739\n",
            "6/6 [==============================] - 22s 3s/step - loss: 0.0254 - accuracy: 0.9918 - val_loss: 0.1960 - val_accuracy: 0.9348\n",
            "Epoch 202/250\n",
            "6/6 [==============================] - ETA: 0s - loss: 0.0246 - accuracy: 0.9918\n",
            "Epoch 202: val_accuracy did not improve from 0.96739\n",
            "6/6 [==============================] - 20s 3s/step - loss: 0.0246 - accuracy: 0.9918 - val_loss: 0.2113 - val_accuracy: 0.9239\n",
            "Epoch 203/250\n",
            "6/6 [==============================] - ETA: 0s - loss: 0.0275 - accuracy: 0.9891\n",
            "Epoch 203: val_accuracy did not improve from 0.96739\n",
            "6/6 [==============================] - 21s 4s/step - loss: 0.0275 - accuracy: 0.9891 - val_loss: 0.2591 - val_accuracy: 0.9022\n",
            "Epoch 204/250\n",
            "6/6 [==============================] - ETA: 0s - loss: 0.0317 - accuracy: 0.9878\n",
            "Epoch 204: val_accuracy did not improve from 0.96739\n",
            "6/6 [==============================] - 20s 3s/step - loss: 0.0317 - accuracy: 0.9878 - val_loss: 0.1842 - val_accuracy: 0.9348\n",
            "Epoch 205/250\n",
            "6/6 [==============================] - ETA: 0s - loss: 0.0302 - accuracy: 0.9864\n",
            "Epoch 205: val_accuracy did not improve from 0.96739\n",
            "6/6 [==============================] - 19s 3s/step - loss: 0.0302 - accuracy: 0.9864 - val_loss: 0.2174 - val_accuracy: 0.9348\n",
            "Epoch 206/250\n",
            "6/6 [==============================] - ETA: 0s - loss: 0.0225 - accuracy: 0.9932\n",
            "Epoch 206: val_accuracy did not improve from 0.96739\n",
            "6/6 [==============================] - 22s 4s/step - loss: 0.0225 - accuracy: 0.9932 - val_loss: 0.2448 - val_accuracy: 0.9185\n",
            "Epoch 207/250\n",
            "6/6 [==============================] - ETA: 0s - loss: 0.0247 - accuracy: 0.9918\n",
            "Epoch 207: val_accuracy did not improve from 0.96739\n",
            "6/6 [==============================] - 20s 3s/step - loss: 0.0247 - accuracy: 0.9918 - val_loss: 0.2084 - val_accuracy: 0.9402\n",
            "Epoch 208/250\n",
            "6/6 [==============================] - ETA: 0s - loss: 0.0240 - accuracy: 0.9932\n",
            "Epoch 208: val_accuracy did not improve from 0.96739\n",
            "6/6 [==============================] - 21s 4s/step - loss: 0.0240 - accuracy: 0.9932 - val_loss: 0.2510 - val_accuracy: 0.8967\n",
            "Epoch 209/250\n",
            "6/6 [==============================] - ETA: 0s - loss: 0.0220 - accuracy: 0.9918\n",
            "Epoch 209: val_accuracy did not improve from 0.96739\n",
            "6/6 [==============================] - 21s 3s/step - loss: 0.0220 - accuracy: 0.9918 - val_loss: 0.1991 - val_accuracy: 0.9348\n",
            "Epoch 210/250\n",
            "6/6 [==============================] - ETA: 0s - loss: 0.0255 - accuracy: 0.9891\n",
            "Epoch 210: val_accuracy did not improve from 0.96739\n",
            "6/6 [==============================] - 20s 3s/step - loss: 0.0255 - accuracy: 0.9891 - val_loss: 0.2413 - val_accuracy: 0.9130\n",
            "Epoch 211/250\n",
            "6/6 [==============================] - ETA: 0s - loss: 0.0211 - accuracy: 0.9932\n",
            "Epoch 211: val_accuracy did not improve from 0.96739\n",
            "6/6 [==============================] - 23s 4s/step - loss: 0.0211 - accuracy: 0.9932 - val_loss: 0.2331 - val_accuracy: 0.9293\n",
            "Epoch 212/250\n",
            "6/6 [==============================] - ETA: 0s - loss: 0.0266 - accuracy: 0.9878\n",
            "Epoch 212: val_accuracy did not improve from 0.96739\n",
            "6/6 [==============================] - 20s 3s/step - loss: 0.0266 - accuracy: 0.9878 - val_loss: 0.2115 - val_accuracy: 0.9402\n",
            "Epoch 213/250\n",
            "6/6 [==============================] - ETA: 0s - loss: 0.0248 - accuracy: 0.9905\n",
            "Epoch 213: val_accuracy did not improve from 0.96739\n",
            "6/6 [==============================] - 21s 4s/step - loss: 0.0248 - accuracy: 0.9905 - val_loss: 0.2667 - val_accuracy: 0.8913\n",
            "Epoch 214/250\n",
            "6/6 [==============================] - ETA: 0s - loss: 0.0205 - accuracy: 0.9946\n",
            "Epoch 214: val_accuracy did not improve from 0.96739\n",
            "6/6 [==============================] - 20s 3s/step - loss: 0.0205 - accuracy: 0.9946 - val_loss: 0.2043 - val_accuracy: 0.9402\n",
            "Epoch 215/250\n",
            "6/6 [==============================] - ETA: 0s - loss: 0.0288 - accuracy: 0.9878\n",
            "Epoch 215: val_accuracy did not improve from 0.96739\n",
            "6/6 [==============================] - 20s 3s/step - loss: 0.0288 - accuracy: 0.9878 - val_loss: 0.3336 - val_accuracy: 0.8804\n",
            "Epoch 216/250\n",
            "6/6 [==============================] - ETA: 0s - loss: 0.0319 - accuracy: 0.9851\n",
            "Epoch 216: val_accuracy did not improve from 0.96739\n",
            "6/6 [==============================] - 23s 4s/step - loss: 0.0319 - accuracy: 0.9851 - val_loss: 0.1672 - val_accuracy: 0.9457\n",
            "Epoch 217/250\n",
            "6/6 [==============================] - ETA: 0s - loss: 0.0261 - accuracy: 0.9905\n",
            "Epoch 217: val_accuracy did not improve from 0.96739\n",
            "6/6 [==============================] - 20s 3s/step - loss: 0.0261 - accuracy: 0.9905 - val_loss: 0.2801 - val_accuracy: 0.8913\n",
            "Epoch 218/250\n",
            "6/6 [==============================] - ETA: 0s - loss: 0.0269 - accuracy: 0.9905\n",
            "Epoch 218: val_accuracy did not improve from 0.96739\n",
            "6/6 [==============================] - 21s 4s/step - loss: 0.0269 - accuracy: 0.9905 - val_loss: 0.2294 - val_accuracy: 0.9239\n",
            "Epoch 219/250\n",
            "6/6 [==============================] - ETA: 0s - loss: 0.0355 - accuracy: 0.9851\n",
            "Epoch 219: val_accuracy did not improve from 0.96739\n",
            "6/6 [==============================] - 21s 3s/step - loss: 0.0355 - accuracy: 0.9851 - val_loss: 0.1596 - val_accuracy: 0.9402\n",
            "Epoch 220/250\n",
            "6/6 [==============================] - ETA: 0s - loss: 0.0344 - accuracy: 0.9837\n",
            "Epoch 220: val_accuracy did not improve from 0.96739\n",
            "6/6 [==============================] - 20s 3s/step - loss: 0.0344 - accuracy: 0.9837 - val_loss: 0.2558 - val_accuracy: 0.9076\n",
            "Epoch 221/250\n",
            "6/6 [==============================] - ETA: 0s - loss: 0.0279 - accuracy: 0.9891\n",
            "Epoch 221: val_accuracy did not improve from 0.96739\n",
            "6/6 [==============================] - 23s 4s/step - loss: 0.0279 - accuracy: 0.9891 - val_loss: 0.2110 - val_accuracy: 0.9185\n",
            "Epoch 222/250\n",
            "6/6 [==============================] - ETA: 0s - loss: 0.0208 - accuracy: 0.9932\n",
            "Epoch 222: val_accuracy did not improve from 0.96739\n",
            "6/6 [==============================] - 20s 3s/step - loss: 0.0208 - accuracy: 0.9932 - val_loss: 0.2262 - val_accuracy: 0.9185\n",
            "Epoch 223/250\n",
            "6/6 [==============================] - ETA: 0s - loss: 0.0204 - accuracy: 0.9918\n",
            "Epoch 223: val_accuracy did not improve from 0.96739\n",
            "6/6 [==============================] - 21s 4s/step - loss: 0.0204 - accuracy: 0.9918 - val_loss: 0.2387 - val_accuracy: 0.9130\n",
            "Epoch 224/250\n",
            "6/6 [==============================] - ETA: 0s - loss: 0.0215 - accuracy: 0.9905\n",
            "Epoch 224: val_accuracy did not improve from 0.96739\n",
            "6/6 [==============================] - 21s 3s/step - loss: 0.0215 - accuracy: 0.9905 - val_loss: 0.2566 - val_accuracy: 0.9076\n",
            "Epoch 225/250\n",
            "6/6 [==============================] - ETA: 0s - loss: 0.0180 - accuracy: 0.9932\n",
            "Epoch 225: val_accuracy did not improve from 0.96739\n",
            "6/6 [==============================] - 20s 3s/step - loss: 0.0180 - accuracy: 0.9932 - val_loss: 0.2381 - val_accuracy: 0.9239\n",
            "Epoch 226/250\n",
            "6/6 [==============================] - ETA: 0s - loss: 0.0223 - accuracy: 0.9932\n",
            "Epoch 226: val_accuracy did not improve from 0.96739\n",
            "6/6 [==============================] - 23s 4s/step - loss: 0.0223 - accuracy: 0.9932 - val_loss: 0.3029 - val_accuracy: 0.8967\n",
            "Epoch 227/250\n",
            "6/6 [==============================] - ETA: 0s - loss: 0.0213 - accuracy: 0.9905\n",
            "Epoch 227: val_accuracy did not improve from 0.96739\n",
            "6/6 [==============================] - 20s 3s/step - loss: 0.0213 - accuracy: 0.9905 - val_loss: 0.2199 - val_accuracy: 0.9402\n",
            "Epoch 228/250\n",
            "6/6 [==============================] - ETA: 0s - loss: 0.0210 - accuracy: 0.9905\n",
            "Epoch 228: val_accuracy did not improve from 0.96739\n",
            "6/6 [==============================] - 21s 4s/step - loss: 0.0210 - accuracy: 0.9905 - val_loss: 0.2621 - val_accuracy: 0.9185\n",
            "Epoch 229/250\n",
            "6/6 [==============================] - ETA: 0s - loss: 0.0181 - accuracy: 0.9932\n",
            "Epoch 229: val_accuracy did not improve from 0.96739\n",
            "6/6 [==============================] - 21s 3s/step - loss: 0.0181 - accuracy: 0.9932 - val_loss: 0.2519 - val_accuracy: 0.9185\n",
            "Epoch 230/250\n",
            "6/6 [==============================] - ETA: 0s - loss: 0.0186 - accuracy: 0.9959\n",
            "Epoch 230: val_accuracy did not improve from 0.96739\n",
            "6/6 [==============================] - 20s 3s/step - loss: 0.0186 - accuracy: 0.9959 - val_loss: 0.2418 - val_accuracy: 0.9239\n",
            "Epoch 231/250\n",
            "6/6 [==============================] - ETA: 0s - loss: 0.0154 - accuracy: 0.9959\n",
            "Epoch 231: val_accuracy did not improve from 0.96739\n",
            "6/6 [==============================] - 23s 4s/step - loss: 0.0154 - accuracy: 0.9959 - val_loss: 0.2618 - val_accuracy: 0.9185\n",
            "Epoch 232/250\n",
            "6/6 [==============================] - ETA: 0s - loss: 0.0199 - accuracy: 0.9905\n",
            "Epoch 232: val_accuracy did not improve from 0.96739\n",
            "6/6 [==============================] - 20s 3s/step - loss: 0.0199 - accuracy: 0.9905 - val_loss: 0.2558 - val_accuracy: 0.9185\n",
            "Epoch 233/250\n",
            "6/6 [==============================] - ETA: 0s - loss: 0.0179 - accuracy: 0.9932\n",
            "Epoch 233: val_accuracy did not improve from 0.96739\n",
            "6/6 [==============================] - 20s 3s/step - loss: 0.0179 - accuracy: 0.9932 - val_loss: 0.2583 - val_accuracy: 0.9293\n",
            "Epoch 234/250\n",
            "6/6 [==============================] - ETA: 0s - loss: 0.0213 - accuracy: 0.9918\n",
            "Epoch 234: val_accuracy did not improve from 0.96739\n",
            "6/6 [==============================] - 29s 4s/step - loss: 0.0213 - accuracy: 0.9918 - val_loss: 0.3071 - val_accuracy: 0.9022\n",
            "Epoch 235/250\n",
            "6/6 [==============================] - ETA: 0s - loss: 0.0144 - accuracy: 0.9973\n",
            "Epoch 235: val_accuracy did not improve from 0.96739\n",
            "6/6 [==============================] - 22s 4s/step - loss: 0.0144 - accuracy: 0.9973 - val_loss: 0.2450 - val_accuracy: 0.9293\n",
            "Epoch 236/250\n",
            "6/6 [==============================] - ETA: 0s - loss: 0.0226 - accuracy: 0.9878\n",
            "Epoch 236: val_accuracy did not improve from 0.96739\n",
            "6/6 [==============================] - 20s 3s/step - loss: 0.0226 - accuracy: 0.9878 - val_loss: 0.3711 - val_accuracy: 0.8804\n",
            "Epoch 237/250\n",
            "6/6 [==============================] - ETA: 0s - loss: 0.0378 - accuracy: 0.9851\n",
            "Epoch 237: val_accuracy did not improve from 0.96739\n",
            "6/6 [==============================] - 20s 3s/step - loss: 0.0378 - accuracy: 0.9851 - val_loss: 0.2225 - val_accuracy: 0.9348\n",
            "Epoch 238/250\n",
            "6/6 [==============================] - ETA: 0s - loss: 0.0257 - accuracy: 0.9891\n",
            "Epoch 238: val_accuracy did not improve from 0.96739\n",
            "6/6 [==============================] - 22s 3s/step - loss: 0.0257 - accuracy: 0.9891 - val_loss: 0.2805 - val_accuracy: 0.9239\n",
            "Epoch 239/250\n",
            "6/6 [==============================] - ETA: 0s - loss: 0.0263 - accuracy: 0.9864\n",
            "Epoch 239: val_accuracy did not improve from 0.96739\n",
            "6/6 [==============================] - 20s 3s/step - loss: 0.0263 - accuracy: 0.9864 - val_loss: 0.2435 - val_accuracy: 0.9239\n",
            "Epoch 240/250\n",
            "6/6 [==============================] - ETA: 0s - loss: 0.0212 - accuracy: 0.9932\n",
            "Epoch 240: val_accuracy did not improve from 0.96739\n",
            "6/6 [==============================] - 21s 4s/step - loss: 0.0212 - accuracy: 0.9932 - val_loss: 0.1975 - val_accuracy: 0.9348\n",
            "Epoch 241/250\n",
            "6/6 [==============================] - ETA: 0s - loss: 0.0158 - accuracy: 0.9959\n",
            "Epoch 241: val_accuracy did not improve from 0.96739\n",
            "6/6 [==============================] - 20s 3s/step - loss: 0.0158 - accuracy: 0.9959 - val_loss: 0.2902 - val_accuracy: 0.8967\n",
            "Epoch 242/250\n",
            "6/6 [==============================] - ETA: 0s - loss: 0.0212 - accuracy: 0.9918\n",
            "Epoch 242: val_accuracy did not improve from 0.96739\n",
            "6/6 [==============================] - 20s 3s/step - loss: 0.0212 - accuracy: 0.9918 - val_loss: 0.2676 - val_accuracy: 0.9130\n",
            "Epoch 243/250\n",
            "6/6 [==============================] - ETA: 0s - loss: 0.0194 - accuracy: 0.9905\n",
            "Epoch 243: val_accuracy did not improve from 0.96739\n",
            "6/6 [==============================] - 22s 4s/step - loss: 0.0194 - accuracy: 0.9905 - val_loss: 0.1923 - val_accuracy: 0.9293\n",
            "Epoch 244/250\n",
            "6/6 [==============================] - ETA: 0s - loss: 0.0193 - accuracy: 0.9932\n",
            "Epoch 244: val_accuracy did not improve from 0.96739\n",
            "6/6 [==============================] - 20s 3s/step - loss: 0.0193 - accuracy: 0.9932 - val_loss: 0.2438 - val_accuracy: 0.9130\n",
            "Epoch 245/250\n",
            "6/6 [==============================] - ETA: 0s - loss: 0.0157 - accuracy: 0.9959\n",
            "Epoch 245: val_accuracy did not improve from 0.96739\n",
            "6/6 [==============================] - 20s 3s/step - loss: 0.0157 - accuracy: 0.9959 - val_loss: 0.2352 - val_accuracy: 0.9348\n",
            "Epoch 246/250\n",
            "6/6 [==============================] - ETA: 0s - loss: 0.0137 - accuracy: 0.9959\n",
            "Epoch 246: val_accuracy did not improve from 0.96739\n",
            "6/6 [==============================] - 22s 3s/step - loss: 0.0137 - accuracy: 0.9959 - val_loss: 0.2380 - val_accuracy: 0.9348\n",
            "Epoch 247/250\n",
            "6/6 [==============================] - ETA: 0s - loss: 0.0168 - accuracy: 0.9932\n",
            "Epoch 247: val_accuracy did not improve from 0.96739\n",
            "6/6 [==============================] - 20s 3s/step - loss: 0.0168 - accuracy: 0.9932 - val_loss: 0.2904 - val_accuracy: 0.9076\n",
            "Epoch 248/250\n",
            "6/6 [==============================] - ETA: 0s - loss: 0.0164 - accuracy: 0.9918\n",
            "Epoch 248: val_accuracy did not improve from 0.96739\n",
            "6/6 [==============================] - 21s 4s/step - loss: 0.0164 - accuracy: 0.9918 - val_loss: 0.2777 - val_accuracy: 0.9185\n",
            "Epoch 249/250\n",
            "6/6 [==============================] - ETA: 0s - loss: 0.0144 - accuracy: 0.9932\n",
            "Epoch 249: val_accuracy did not improve from 0.96739\n",
            "6/6 [==============================] - 20s 3s/step - loss: 0.0144 - accuracy: 0.9932 - val_loss: 0.2741 - val_accuracy: 0.9130\n",
            "Epoch 250/250\n",
            "6/6 [==============================] - ETA: 0s - loss: 0.0176 - accuracy: 0.9932\n",
            "Epoch 250: val_accuracy did not improve from 0.96739\n",
            "6/6 [==============================] - 20s 3s/step - loss: 0.0176 - accuracy: 0.9932 - val_loss: 0.2982 - val_accuracy: 0.9076\n",
            "Training completed in time:  1:27:03.169458\n"
          ]
        }
      ]
    },
    {
      "cell_type": "markdown",
      "source": [
        "Test the model\n",
        "\n",
        "Here we will review the accuracy of the model on both the training and test data sets."
      ],
      "metadata": {
        "id": "ZzhszPDgf37F"
      }
    },
    {
      "cell_type": "code",
      "source": [
        "model.save(\"Pneumonia_trained_model.h5\")"
      ],
      "metadata": {
        "id": "D0g7pTvocl1k"
      },
      "execution_count": null,
      "outputs": []
    },
    {
      "cell_type": "code",
      "source": [
        "from tensorflow.keras import models\n",
        "model_1 = models.load_model(\"Pneumonia_trained_model.h5\")"
      ],
      "metadata": {
        "id": "zUpB1HmHcYB5"
      },
      "execution_count": null,
      "outputs": []
    },
    {
      "cell_type": "code",
      "source": [
        "# Evaluating the model on the training and testing set\n",
        "score = model_1.evaluate(x_train, y_train, verbose=0)\n",
        "print(\"Training Accuracy: \", score[1])\n",
        "\n",
        "score = model_1.evaluate(x_test, y_test, verbose=0)\n",
        "print(\"Testing Accuracy: \", score[1])"
      ],
      "metadata": {
        "colab": {
          "base_uri": "https://localhost:8080/"
        },
        "id": "NtMp7wmXIzOC",
        "outputId": "763f1563-ae0b-4b2d-ad3e-c238d8ae2878"
      },
      "execution_count": null,
      "outputs": [
        {
          "output_type": "stream",
          "name": "stdout",
          "text": [
            "Training Accuracy:  0.9646739363670349\n",
            "Testing Accuracy:  0.907608687877655\n"
          ]
        }
      ]
    },
    {
      "cell_type": "code",
      "source": [
        "preds = model.predict(x_test) # label scores\n",
        "\n",
        "classpreds = np.argmax(preds, axis=1) # predicted classes\n",
        "\n",
        "y_testclass = np.argmax(y_test, axis=1) # true classes\n",
        "\n",
        "n_classes=6 # number of classes"
      ],
      "metadata": {
        "colab": {
          "base_uri": "https://localhost:8080/"
        },
        "id": "u_HVOvdbf9DS",
        "outputId": "eeba24b1-f973-4edc-87c2-ad2d4b3a6ba7"
      },
      "execution_count": null,
      "outputs": [
        {
          "output_type": "stream",
          "name": "stdout",
          "text": [
            "6/6 [==============================] - 1s 176ms/step\n"
          ]
        }
      ]
    },
    {
      "cell_type": "code",
      "source": [
        "y_testclass"
      ],
      "metadata": {
        "colab": {
          "base_uri": "https://localhost:8080/"
        },
        "id": "Ly0bxIK_f_4k",
        "outputId": "7aa08e4a-13b1-4817-82ee-fbe660c72f44"
      },
      "execution_count": null,
      "outputs": [
        {
          "output_type": "execute_result",
          "data": {
            "text/plain": [
              "array([0, 0, 0, 0, 0, 0, 0, 1, 0, 0, 0, 0, 0, 0, 0, 0, 0, 0, 0, 0, 0, 0,\n",
              "       0, 0, 0, 0, 0, 0, 0, 0, 0, 0, 0, 0, 0, 0, 0, 0, 0, 0, 0, 0, 0, 0,\n",
              "       0, 0, 0, 0, 0, 0, 0, 0, 0, 0, 0, 0, 0, 0, 0, 0, 0, 0, 0, 0, 0, 0,\n",
              "       0, 0, 0, 0, 0, 0, 0, 0, 0, 0, 0, 0, 0, 0, 0, 0, 0, 0, 0, 0, 0, 0,\n",
              "       0, 0, 0, 0, 0, 0, 0, 0, 0, 0, 1, 0, 0, 0, 0, 0, 0, 0, 0, 0, 0, 0,\n",
              "       0, 0, 0, 0, 0, 0, 0, 0, 0, 0, 0, 0, 0, 1, 0, 0, 0, 0, 0, 0, 0, 0,\n",
              "       0, 0, 0, 0, 0, 0, 0, 0, 0, 0, 0, 0, 0, 1, 0, 0, 1, 0, 0, 0, 0, 0,\n",
              "       0, 0, 0, 0, 0, 0, 0, 0, 0, 0, 0, 0, 0, 0, 0, 0, 1, 0, 0, 0, 0, 0,\n",
              "       0, 0, 0, 0, 0, 1, 0, 0])"
            ]
          },
          "metadata": {},
          "execution_count": 87
        }
      ]
    },
    {
      "cell_type": "code",
      "source": [
        "# Compute ROC curve and ROC area for each class\n",
        "fpr = dict()\n",
        "tpr = dict()\n",
        "roc_auc = dict()\n",
        "for i in range(2):\n",
        "    fpr[i], tpr[i], _ = roc_curve(y_test[:, i], preds[:, i])\n",
        "    roc_auc[i] = auc(fpr[i], tpr[i])"
      ],
      "metadata": {
        "id": "HkBuw7ihgEH8"
      },
      "execution_count": null,
      "outputs": []
    },
    {
      "cell_type": "code",
      "source": [
        "c_names = [\"NO\", 'Pneumonia']"
      ],
      "metadata": {
        "id": "fjGjf0PcgGvV"
      },
      "execution_count": null,
      "outputs": []
    },
    {
      "cell_type": "code",
      "source": [
        "# Plot ROC curves\n",
        "fig, ax = plt.subplots(figsize=(16, 10))\n",
        "ax.plot([0, 1], [0, 1], 'k--')\n",
        "ax.set_xlim([0.0, 1.0])\n",
        "ax.set_ylim([0.0, 1.05])\n",
        "ax.set_xlabel('False Positive Rate')\n",
        "ax.set_ylabel('True Positive Rate')\n",
        "ax.set_title('ROC Curve for Each Class')\n",
        "for i in range(2):\n",
        "    ax.plot(fpr[i], tpr[i], linewidth=3, label='ROC curve (area = %0.2f) for %s' % (roc_auc[i], c_names[i]))\n",
        "ax.legend(loc=\"best\", fontsize='x-large')\n",
        "ax.grid(alpha=.4)\n",
        "sns.despine()\n",
        "plt.show()"
      ],
      "metadata": {
        "colab": {
          "base_uri": "https://localhost:8080/",
          "height": 872
        },
        "id": "ZyxfWlFxgJFG",
        "outputId": "8d8d725a-4280-4e6f-8418-6f11d85c20a3"
      },
      "execution_count": null,
      "outputs": [
        {
          "output_type": "display_data",
          "data": {
            "text/plain": [
              "<Figure size 1600x1000 with 1 Axes>"
            ],
            "image/png": "[encoded data removed]"
          },
          "metadata": {}
        }
      ]
    },
    {
      "cell_type": "code",
      "source": [
        "# Classification Report\n",
        "print(classification_report(y_testclass, classpreds, target_names=c_names))"
      ],
      "metadata": {
        "colab": {
          "base_uri": "https://localhost:8080/"
        },
        "id": "YX-M0wH9gMRr",
        "outputId": "d40e304f-6177-465f-81b0-2d6905e47d08"
      },
      "execution_count": null,
      "outputs": [
        {
          "output_type": "stream",
          "name": "stdout",
          "text": [
            "              precision    recall  f1-score   support\n",
            "\n",
            "          NO       0.99      0.92      0.95       177\n",
            "   Pneumonia       0.25      0.71      0.37         7\n",
            "\n",
            "    accuracy                           0.91       184\n",
            "   macro avg       0.62      0.81      0.66       184\n",
            "weighted avg       0.96      0.91      0.93       184\n",
            "\n"
          ]
        }
      ]
    },
    {
      "cell_type": "code",
      "source": [
        "# Confusion Matrix\n",
        "print(confusion_matrix(y_testclass, classpreds))"
      ],
      "metadata": {
        "colab": {
          "base_uri": "https://localhost:8080/"
        },
        "id": "tA76xcZEgO9X",
        "outputId": "a480a06d-324d-49ef-d9ca-3b525ad4dda9"
      },
      "execution_count": null,
      "outputs": [
        {
          "output_type": "stream",
          "name": "stdout",
          "text": [
            "[[162  15]\n",
            " [  2   5]]\n"
          ]
        }
      ]
    },
    {
      "cell_type": "code",
      "source": [
        "from sklearn.metrics import classification_report, confusion_matrix\n",
        "import seaborn as sn"
      ],
      "metadata": {
        "id": "NwRVGmZLhnMM"
      },
      "execution_count": null,
      "outputs": []
    },
    {
      "cell_type": "code",
      "source": [
        "cm = confusion_matrix(y_testclass, classpreds)\n",
        "matrix_index = [\"Pneumonia\",\"No Pneumonia\"]\n",
        "df_cm = pd.DataFrame(cm, index = matrix_index, columns = matrix_index)\n",
        "df_cm.index.name = 'Actual'\n",
        "df_cm.columns.name = 'Predicted'\n",
        "fig, ax = plt.subplots(figsize=(10,7))\n",
        "\n",
        "cm_sum = np.sum(cm, axis=1, keepdims=True)\n",
        "cm_perc = cm / cm_sum.astype(float) * 100\n",
        "annot = np.empty_like(cm).astype(str)\n",
        "nrows, ncols = cm.shape\n",
        "for i in range(nrows):\n",
        "    for j in range(ncols):\n",
        "        c = cm[i, j]\n",
        "        p = cm_perc[i, j]\n",
        "        if i == j:\n",
        "            s = cm_sum[i]\n",
        "            annot[i, j] = '%.1f%%\\n%d/%d' % (p, c, s)\n",
        "        elif c == 0:\n",
        "            annot[i, j] = ''\n",
        "        else:\n",
        "            annot[i, j] = '%.1f%%\\n%d' % (p, c)\n",
        "\n",
        "sn.heatmap(df_cm, annot=annot, fmt='')\n",
        "plt.show()"
      ],
      "metadata": {
        "colab": {
          "base_uri": "https://localhost:8080/",
          "height": 619
        },
        "id": "G8VQANdXg3rG",
        "outputId": "01a3641d-02de-4818-cda2-876872c6b374"
      },
      "execution_count": null,
      "outputs": [
        {
          "output_type": "display_data",
          "data": {
            "text/plain": [
              "<Figure size 1000x700 with 2 Axes>"
            ],
            "image/png": "[encoded data removed]"
          },
          "metadata": {}
        }
      ]
    }
  ]
}